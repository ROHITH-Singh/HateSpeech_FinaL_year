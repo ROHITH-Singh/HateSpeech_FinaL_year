{
 "cells": [
  {
   "cell_type": "markdown",
   "id": "0aeef6e5",
   "metadata": {
    "_cell_guid": "b1076dfc-b9ad-4769-8c92-a6c4dae69d19",
    "_uuid": "8f2839f25d086af736a60e9eeb907d3b93b6e0e5",
    "papermill": {
     "duration": 0.038408,
     "end_time": "2022-06-13T18:07:26.332636",
     "exception": false,
     "start_time": "2022-06-13T18:07:26.294228",
     "status": "completed"
    },
    "tags": []
   },
   "source": [
    "# HATESPEECH DETECTION AND MODERATION \n",
    "An increase of digital adoption due to “jio Effect” in the Indian market  and also due to recent covid made digital participation  of indians on social media more active .which results in online content continues to grow, so does the spread of hate speech .\n"
   ]
  },
  {
   "cell_type": "markdown",
   "id": "1360d7a3",
   "metadata": {
    "papermill": {
     "duration": 0.037501,
     "end_time": "2022-06-13T18:07:26.407544",
     "exception": false,
     "start_time": "2022-06-13T18:07:26.370043",
     "status": "completed"
    },
    "tags": []
   },
   "source": [
    "# Objective\n",
    "The objective of the project is to develop a model that can recognize hate speech in a textual data.\n",
    "The main objectives of the project are listed below:\n",
    "1) detect the hate speech hiding in plain sight.\n",
    "2) classify the hate speech .\n"
   ]
  },
  {
   "cell_type": "markdown",
   "id": "f71252de",
   "metadata": {
    "papermill": {
     "duration": 0.036857,
     "end_time": "2022-06-13T18:07:26.481709",
     "exception": false,
     "start_time": "2022-06-13T18:07:26.444852",
     "status": "completed"
    },
    "tags": []
   },
   "source": [
    "# Libraries"
   ]
  },
  {
   "cell_type": "code",
   "execution_count": 1,
   "id": "c289b7a4",
   "metadata": {
    "execution": {
     "iopub.execute_input": "2022-06-13T18:07:26.561077Z",
     "iopub.status.busy": "2022-06-13T18:07:26.560339Z",
     "iopub.status.idle": "2022-06-13T18:07:48.267499Z",
     "shell.execute_reply": "2022-06-13T18:07:48.266574Z"
    },
    "papermill": {
     "duration": 21.74912,
     "end_time": "2022-06-13T18:07:48.269979",
     "exception": false,
     "start_time": "2022-06-13T18:07:26.520859",
     "status": "completed"
    },
    "tags": []
   },
   "outputs": [
    {
     "name": "stdout",
     "output_type": "stream",
     "text": [
      "[nltk_data] Error loading stopwords: <urlopen error [Errno -3]\n",
      "[nltk_data]     Temporary failure in name resolution>\n"
     ]
    }
   ],
   "source": [
    "import pandas as pd\n",
    "import numpy as np\n",
    "import re\n",
    "import string\n",
    "import itertools as it\n",
    "import pickle\n",
    "import os\n",
    "from  pathlib import Path\n",
    "\n",
    "import nltk\n",
    "from nltk.corpus import stopwords                  # module for stop words that come with NLTK\n",
    "from nltk.stem.wordnet import WordNetLemmatizer    # module for lemmatization\n",
    "from nltk import word_tokenize, pos_tag            # tokenization and Part of Speech tagging\n",
    "\n",
    "nltk.download('stopwords')                         #stopwords used to preprocess the corpus\n",
    "stopwords_english = stopwords.words('english')\n",
    "from sklearn.feature_extraction.text import CountVectorizer,TfidfVectorizer\n",
    "from sklearn.linear_model import LogisticRegression\n",
    "from sklearn.model_selection import train_test_split\n",
    "from sklearn.preprocessing import StandardScaler\n",
    "from sklearn.naive_bayes import MultinomialNB\n",
    "from sklearn.model_selection import cross_val_score\n",
    "from matplotlib import pyplot as plt\n",
    "import matplotlib\n",
    "%matplotlib inline\n"
   ]
  },
  {
   "cell_type": "markdown",
   "id": "287f37bc",
   "metadata": {
    "papermill": {
     "duration": 0.037407,
     "end_time": "2022-06-13T18:07:48.345803",
     "exception": false,
     "start_time": "2022-06-13T18:07:48.308396",
     "status": "completed"
    },
    "tags": []
   },
   "source": [
    "# Dataset Description\n",
    "1) The dataset used in this project has been taken from the Andrii Samoshyn Database and wikipedia comment  who has public license for this dataset . <br>\n",
    "2) The dataset has been split into training data and testing data. <br>\n",
    "3) unique texts classified into 6 labels such 'toxic', 'severe_toxic', 'obscene', 'threat','insult', 'identity_hate' .<br>\n",
    "4) its a raw data which contains links ,userid ,emojis, … <br>\n",
    "5) https://hatespeechdata.com/   its a public maintained data library  on github.\n"
   ]
  },
  {
   "cell_type": "code",
   "execution_count": 2,
   "id": "5ada460d",
   "metadata": {
    "execution": {
     "iopub.execute_input": "2022-06-13T18:07:48.422402Z",
     "iopub.status.busy": "2022-06-13T18:07:48.421751Z",
     "iopub.status.idle": "2022-06-13T18:07:48.437472Z",
     "shell.execute_reply": "2022-06-13T18:07:48.436343Z"
    },
    "papermill": {
     "duration": 0.056907,
     "end_time": "2022-06-13T18:07:48.440091",
     "exception": false,
     "start_time": "2022-06-13T18:07:48.383184",
     "status": "completed"
    },
    "tags": []
   },
   "outputs": [
    {
     "name": "stdout",
     "output_type": "stream",
     "text": [
      "/kaggle/input/hatespeechdata/test_labels.csv\n",
      "/kaggle/input/hatespeechdata/train_data.csv\n",
      "/kaggle/input/hatespeechdata/train.csv\n",
      "/kaggle/input/hatespeechdata/test.csv\n"
     ]
    }
   ],
   "source": [
    "# This Python 3 environment comes with many helpful analytics libraries installed\n",
    "# It is defined by the kaggle/python Docker image: https://github.com/kaggle/docker-python\n",
    "# For example, here's several helpful packages to load\n",
    "\n",
    "# Input data files are available in the read-only \"../input/\" directory\n",
    "# For example, running this (by clicking run or pressing Shift+Enter) will list all files under the input directory\n",
    "\n",
    "import os\n",
    "for dirname, _, filenames in os.walk('/kaggle/input'):\n",
    "    for filename in filenames:\n",
    "        print(os.path.join(dirname, filename))\n",
    "\n",
    "# You can write up to 20GB to the current directory (/kaggle/working/) that gets preserved as output when you create a version using \"Save & Run All\" \n",
    "# You can also write temporary files to /kaggle/temp/, but they won't be saved outside of the current session"
   ]
  },
  {
   "cell_type": "code",
   "execution_count": 3,
   "id": "a6aa373b",
   "metadata": {
    "execution": {
     "iopub.execute_input": "2022-06-13T18:07:48.518705Z",
     "iopub.status.busy": "2022-06-13T18:07:48.518437Z",
     "iopub.status.idle": "2022-06-13T18:07:52.267510Z",
     "shell.execute_reply": "2022-06-13T18:07:52.266421Z"
    },
    "papermill": {
     "duration": 3.790569,
     "end_time": "2022-06-13T18:07:52.269788",
     "exception": false,
     "start_time": "2022-06-13T18:07:48.479219",
     "status": "completed"
    },
    "tags": []
   },
   "outputs": [],
   "source": [
    "stopwords_english = stopwords.words('english')\n",
    "train_data = pd.read_csv(\"../input/hatespeechdata/train.csv\")\n",
    "test_data = pd.read_csv('../input/hatespeechdata/test.csv')\n",
    "test_label_data = pd.read_csv('../input/hatespeechdata/test_labels.csv')\n",
    " "
   ]
  },
  {
   "cell_type": "code",
   "execution_count": 4,
   "id": "c9326fd7",
   "metadata": {
    "execution": {
     "iopub.execute_input": "2022-06-13T18:07:52.348242Z",
     "iopub.status.busy": "2022-06-13T18:07:52.347932Z",
     "iopub.status.idle": "2022-06-13T18:07:52.422366Z",
     "shell.execute_reply": "2022-06-13T18:07:52.421084Z"
    },
    "papermill": {
     "duration": 0.116398,
     "end_time": "2022-06-13T18:07:52.424773",
     "exception": false,
     "start_time": "2022-06-13T18:07:52.308375",
     "status": "completed"
    },
    "tags": []
   },
   "outputs": [
    {
     "name": "stdout",
     "output_type": "stream",
     "text": [
      "<class 'pandas.core.frame.DataFrame'>\n",
      "RangeIndex: 159571 entries, 0 to 159570\n",
      "Data columns (total 8 columns):\n",
      " #   Column         Non-Null Count   Dtype \n",
      "---  ------         --------------   ----- \n",
      " 0   id             159571 non-null  object\n",
      " 1   comment_text   159571 non-null  object\n",
      " 2   toxic          159571 non-null  int64 \n",
      " 3   severe_toxic   159571 non-null  int64 \n",
      " 4   obscene        159571 non-null  int64 \n",
      " 5   threat         159571 non-null  int64 \n",
      " 6   insult         159571 non-null  int64 \n",
      " 7   identity_hate  159571 non-null  int64 \n",
      "dtypes: int64(6), object(2)\n",
      "memory usage: 9.7+ MB\n"
     ]
    }
   ],
   "source": [
    "train_data.info()"
   ]
  },
  {
   "cell_type": "code",
   "execution_count": 5,
   "id": "051fdefa",
   "metadata": {
    "execution": {
     "iopub.execute_input": "2022-06-13T18:07:52.504183Z",
     "iopub.status.busy": "2022-06-13T18:07:52.503830Z",
     "iopub.status.idle": "2022-06-13T18:07:52.557429Z",
     "shell.execute_reply": "2022-06-13T18:07:52.556509Z"
    },
    "papermill": {
     "duration": 0.095793,
     "end_time": "2022-06-13T18:07:52.559750",
     "exception": false,
     "start_time": "2022-06-13T18:07:52.463957",
     "status": "completed"
    },
    "tags": []
   },
   "outputs": [
    {
     "data": {
      "text/plain": [
       "id               0\n",
       "comment_text     0\n",
       "toxic            0\n",
       "severe_toxic     0\n",
       "obscene          0\n",
       "threat           0\n",
       "insult           0\n",
       "identity_hate    0\n",
       "dtype: int64"
      ]
     },
     "execution_count": 5,
     "metadata": {},
     "output_type": "execute_result"
    }
   ],
   "source": [
    " train_data.isna().sum()"
   ]
  },
  {
   "cell_type": "code",
   "execution_count": 6,
   "id": "0cb0b4d8",
   "metadata": {
    "execution": {
     "iopub.execute_input": "2022-06-13T18:07:52.639746Z",
     "iopub.status.busy": "2022-06-13T18:07:52.639440Z",
     "iopub.status.idle": "2022-06-13T18:07:52.656520Z",
     "shell.execute_reply": "2022-06-13T18:07:52.655660Z"
    },
    "papermill": {
     "duration": 0.059808,
     "end_time": "2022-06-13T18:07:52.658704",
     "exception": false,
     "start_time": "2022-06-13T18:07:52.598896",
     "status": "completed"
    },
    "tags": []
   },
   "outputs": [
    {
     "data": {
      "text/html": [
       "<div>\n",
       "<style scoped>\n",
       "    .dataframe tbody tr th:only-of-type {\n",
       "        vertical-align: middle;\n",
       "    }\n",
       "\n",
       "    .dataframe tbody tr th {\n",
       "        vertical-align: top;\n",
       "    }\n",
       "\n",
       "    .dataframe thead th {\n",
       "        text-align: right;\n",
       "    }\n",
       "</style>\n",
       "<table border=\"1\" class=\"dataframe\">\n",
       "  <thead>\n",
       "    <tr style=\"text-align: right;\">\n",
       "      <th></th>\n",
       "      <th>id</th>\n",
       "      <th>comment_text</th>\n",
       "      <th>toxic</th>\n",
       "      <th>severe_toxic</th>\n",
       "      <th>obscene</th>\n",
       "      <th>threat</th>\n",
       "      <th>insult</th>\n",
       "      <th>identity_hate</th>\n",
       "    </tr>\n",
       "  </thead>\n",
       "  <tbody>\n",
       "    <tr>\n",
       "      <th>0</th>\n",
       "      <td>0000997932d777bf</td>\n",
       "      <td>Explanation\\nWhy the edits made under my usern...</td>\n",
       "      <td>0</td>\n",
       "      <td>0</td>\n",
       "      <td>0</td>\n",
       "      <td>0</td>\n",
       "      <td>0</td>\n",
       "      <td>0</td>\n",
       "    </tr>\n",
       "    <tr>\n",
       "      <th>1</th>\n",
       "      <td>000103f0d9cfb60f</td>\n",
       "      <td>D'aww! He matches this background colour I'm s...</td>\n",
       "      <td>0</td>\n",
       "      <td>0</td>\n",
       "      <td>0</td>\n",
       "      <td>0</td>\n",
       "      <td>0</td>\n",
       "      <td>0</td>\n",
       "    </tr>\n",
       "    <tr>\n",
       "      <th>2</th>\n",
       "      <td>000113f07ec002fd</td>\n",
       "      <td>Hey man, I'm really not trying to edit war. It...</td>\n",
       "      <td>0</td>\n",
       "      <td>0</td>\n",
       "      <td>0</td>\n",
       "      <td>0</td>\n",
       "      <td>0</td>\n",
       "      <td>0</td>\n",
       "    </tr>\n",
       "    <tr>\n",
       "      <th>3</th>\n",
       "      <td>0001b41b1c6bb37e</td>\n",
       "      <td>\"\\nMore\\nI can't make any real suggestions on ...</td>\n",
       "      <td>0</td>\n",
       "      <td>0</td>\n",
       "      <td>0</td>\n",
       "      <td>0</td>\n",
       "      <td>0</td>\n",
       "      <td>0</td>\n",
       "    </tr>\n",
       "    <tr>\n",
       "      <th>4</th>\n",
       "      <td>0001d958c54c6e35</td>\n",
       "      <td>You, sir, are my hero. Any chance you remember...</td>\n",
       "      <td>0</td>\n",
       "      <td>0</td>\n",
       "      <td>0</td>\n",
       "      <td>0</td>\n",
       "      <td>0</td>\n",
       "      <td>0</td>\n",
       "    </tr>\n",
       "    <tr>\n",
       "      <th>5</th>\n",
       "      <td>00025465d4725e87</td>\n",
       "      <td>\"\\n\\nCongratulations from me as well, use the ...</td>\n",
       "      <td>0</td>\n",
       "      <td>0</td>\n",
       "      <td>0</td>\n",
       "      <td>0</td>\n",
       "      <td>0</td>\n",
       "      <td>0</td>\n",
       "    </tr>\n",
       "    <tr>\n",
       "      <th>6</th>\n",
       "      <td>0002bcb3da6cb337</td>\n",
       "      <td>COCKSUCKER BEFORE YOU PISS AROUND ON MY WORK</td>\n",
       "      <td>1</td>\n",
       "      <td>1</td>\n",
       "      <td>1</td>\n",
       "      <td>0</td>\n",
       "      <td>1</td>\n",
       "      <td>0</td>\n",
       "    </tr>\n",
       "    <tr>\n",
       "      <th>7</th>\n",
       "      <td>00031b1e95af7921</td>\n",
       "      <td>Your vandalism to the Matt Shirvington article...</td>\n",
       "      <td>0</td>\n",
       "      <td>0</td>\n",
       "      <td>0</td>\n",
       "      <td>0</td>\n",
       "      <td>0</td>\n",
       "      <td>0</td>\n",
       "    </tr>\n",
       "    <tr>\n",
       "      <th>8</th>\n",
       "      <td>00037261f536c51d</td>\n",
       "      <td>Sorry if the word 'nonsense' was offensive to ...</td>\n",
       "      <td>0</td>\n",
       "      <td>0</td>\n",
       "      <td>0</td>\n",
       "      <td>0</td>\n",
       "      <td>0</td>\n",
       "      <td>0</td>\n",
       "    </tr>\n",
       "    <tr>\n",
       "      <th>9</th>\n",
       "      <td>00040093b2687caa</td>\n",
       "      <td>alignment on this subject and which are contra...</td>\n",
       "      <td>0</td>\n",
       "      <td>0</td>\n",
       "      <td>0</td>\n",
       "      <td>0</td>\n",
       "      <td>0</td>\n",
       "      <td>0</td>\n",
       "    </tr>\n",
       "  </tbody>\n",
       "</table>\n",
       "</div>"
      ],
      "text/plain": [
       "                 id                                       comment_text  toxic  \\\n",
       "0  0000997932d777bf  Explanation\\nWhy the edits made under my usern...      0   \n",
       "1  000103f0d9cfb60f  D'aww! He matches this background colour I'm s...      0   \n",
       "2  000113f07ec002fd  Hey man, I'm really not trying to edit war. It...      0   \n",
       "3  0001b41b1c6bb37e  \"\\nMore\\nI can't make any real suggestions on ...      0   \n",
       "4  0001d958c54c6e35  You, sir, are my hero. Any chance you remember...      0   \n",
       "5  00025465d4725e87  \"\\n\\nCongratulations from me as well, use the ...      0   \n",
       "6  0002bcb3da6cb337       COCKSUCKER BEFORE YOU PISS AROUND ON MY WORK      1   \n",
       "7  00031b1e95af7921  Your vandalism to the Matt Shirvington article...      0   \n",
       "8  00037261f536c51d  Sorry if the word 'nonsense' was offensive to ...      0   \n",
       "9  00040093b2687caa  alignment on this subject and which are contra...      0   \n",
       "\n",
       "   severe_toxic  obscene  threat  insult  identity_hate  \n",
       "0             0        0       0       0              0  \n",
       "1             0        0       0       0              0  \n",
       "2             0        0       0       0              0  \n",
       "3             0        0       0       0              0  \n",
       "4             0        0       0       0              0  \n",
       "5             0        0       0       0              0  \n",
       "6             1        1       0       1              0  \n",
       "7             0        0       0       0              0  \n",
       "8             0        0       0       0              0  \n",
       "9             0        0       0       0              0  "
      ]
     },
     "execution_count": 6,
     "metadata": {},
     "output_type": "execute_result"
    }
   ],
   "source": [
    "train_data.head(10)"
   ]
  },
  {
   "cell_type": "code",
   "execution_count": 7,
   "id": "255a90b2",
   "metadata": {
    "execution": {
     "iopub.execute_input": "2022-06-13T18:07:52.739450Z",
     "iopub.status.busy": "2022-06-13T18:07:52.739134Z",
     "iopub.status.idle": "2022-06-13T18:07:52.748169Z",
     "shell.execute_reply": "2022-06-13T18:07:52.747471Z"
    },
    "papermill": {
     "duration": 0.052186,
     "end_time": "2022-06-13T18:07:52.750919",
     "exception": false,
     "start_time": "2022-06-13T18:07:52.698733",
     "status": "completed"
    },
    "tags": []
   },
   "outputs": [
    {
     "name": "stdout",
     "output_type": "stream",
     "text": [
      "Explanation\n",
      "Why the edits made under my username Hardcore Metallica Fan were reverted? They weren't vandalisms, just closure on some GAs after I voted at New York Dolls FAC. And please don't remove the template from the talk page since I'm retired now.89.205.38.27\n",
      "---------------\n",
      "D'aww! He matches this background colour I'm seemingly stuck with. Thanks.  (talk) 21:51, January 11, 2016 (UTC)\n",
      "---------------\n",
      "Hey man, I'm really not trying to edit war. It's just that this guy is constantly removing relevant information and talking to me through edits instead of my talk page. He seems to care more about the formatting than the actual info.\n",
      "---------------\n",
      "\"\n",
      "More\n",
      "I can't make any real suggestions on improvement - I wondered if the section statistics should be later on, or a subsection of \"\"types of accidents\"\"  -I think the references may need tidying so that they are all in the exact same format ie date format etc. I can do that later on, if no-one else does first - if you have any preferences for formatting style on references or want to do it yourself please let me know.\n",
      "\n",
      "There appears to be a backlog on articles for review so I guess there may be a delay until a reviewer turns up. It's listed in the relevant form eg Wikipedia:Good_article_nominations#Transport  \"\n",
      "---------------\n",
      "You, sir, are my hero. Any chance you remember what page that's on?\n",
      "---------------\n",
      "\"\n",
      "\n",
      "Congratulations from me as well, use the tools well.  · talk \"\n",
      "---------------\n",
      "COCKSUCKER BEFORE YOU PISS AROUND ON MY WORK\n",
      "---------------\n",
      "Your vandalism to the Matt Shirvington article has been reverted.  Please don't do it again, or you will be banned.\n",
      "---------------\n",
      "Sorry if the word 'nonsense' was offensive to you. Anyway, I'm not intending to write anything in the article(wow they would jump on me for vandalism), I'm merely requesting that it be more encyclopedic so one can use it for school as a reference. I have been to the selective breeding page but it's almost a stub. It points to 'animal breeding' which is a short messy article that gives you no info. There must be someone around with expertise in eugenics? 93.161.107.169\n",
      "---------------\n",
      "alignment on this subject and which are contrary to those of DuLithgow\n",
      "---------------\n"
     ]
    }
   ],
   "source": [
    "\n",
    "for i in range(10):\n",
    "    print(train_data['comment_text'][i])\n",
    "    print('---------------')"
   ]
  },
  {
   "cell_type": "code",
   "execution_count": 8,
   "id": "2c17b8a8",
   "metadata": {
    "execution": {
     "iopub.execute_input": "2022-06-13T18:07:52.834938Z",
     "iopub.status.busy": "2022-06-13T18:07:52.834593Z",
     "iopub.status.idle": "2022-06-13T18:07:52.844746Z",
     "shell.execute_reply": "2022-06-13T18:07:52.843879Z"
    },
    "papermill": {
     "duration": 0.055078,
     "end_time": "2022-06-13T18:07:52.846723",
     "exception": false,
     "start_time": "2022-06-13T18:07:52.791645",
     "status": "completed"
    },
    "tags": []
   },
   "outputs": [
    {
     "data": {
      "text/html": [
       "<div>\n",
       "<style scoped>\n",
       "    .dataframe tbody tr th:only-of-type {\n",
       "        vertical-align: middle;\n",
       "    }\n",
       "\n",
       "    .dataframe tbody tr th {\n",
       "        vertical-align: top;\n",
       "    }\n",
       "\n",
       "    .dataframe thead th {\n",
       "        text-align: right;\n",
       "    }\n",
       "</style>\n",
       "<table border=\"1\" class=\"dataframe\">\n",
       "  <thead>\n",
       "    <tr style=\"text-align: right;\">\n",
       "      <th></th>\n",
       "      <th>id</th>\n",
       "      <th>comment_text</th>\n",
       "    </tr>\n",
       "  </thead>\n",
       "  <tbody>\n",
       "    <tr>\n",
       "      <th>0</th>\n",
       "      <td>00001cee341fdb12</td>\n",
       "      <td>Yo bitch Ja Rule is more succesful then you'll...</td>\n",
       "    </tr>\n",
       "    <tr>\n",
       "      <th>1</th>\n",
       "      <td>0000247867823ef7</td>\n",
       "      <td>== From RfC == \\n\\n The title is fine as it is...</td>\n",
       "    </tr>\n",
       "    <tr>\n",
       "      <th>2</th>\n",
       "      <td>00013b17ad220c46</td>\n",
       "      <td>\" \\n\\n == Sources == \\n\\n * Zawe Ashton on Lap...</td>\n",
       "    </tr>\n",
       "    <tr>\n",
       "      <th>3</th>\n",
       "      <td>00017563c3f7919a</td>\n",
       "      <td>:If you have a look back at the source, the in...</td>\n",
       "    </tr>\n",
       "    <tr>\n",
       "      <th>4</th>\n",
       "      <td>00017695ad8997eb</td>\n",
       "      <td>I don't anonymously edit articles at all.</td>\n",
       "    </tr>\n",
       "    <tr>\n",
       "      <th>5</th>\n",
       "      <td>0001ea8717f6de06</td>\n",
       "      <td>Thank you for understanding. I think very high...</td>\n",
       "    </tr>\n",
       "    <tr>\n",
       "      <th>6</th>\n",
       "      <td>00024115d4cbde0f</td>\n",
       "      <td>Please do not add nonsense to Wikipedia. Such ...</td>\n",
       "    </tr>\n",
       "    <tr>\n",
       "      <th>7</th>\n",
       "      <td>000247e83dcc1211</td>\n",
       "      <td>:Dear god this site is horrible.</td>\n",
       "    </tr>\n",
       "    <tr>\n",
       "      <th>8</th>\n",
       "      <td>00025358d4737918</td>\n",
       "      <td>\" \\n Only a fool can believe in such numbers. ...</td>\n",
       "    </tr>\n",
       "    <tr>\n",
       "      <th>9</th>\n",
       "      <td>00026d1092fe71cc</td>\n",
       "      <td>== Double Redirects == \\n\\n When fixing double...</td>\n",
       "    </tr>\n",
       "  </tbody>\n",
       "</table>\n",
       "</div>"
      ],
      "text/plain": [
       "                 id                                       comment_text\n",
       "0  00001cee341fdb12  Yo bitch Ja Rule is more succesful then you'll...\n",
       "1  0000247867823ef7  == From RfC == \\n\\n The title is fine as it is...\n",
       "2  00013b17ad220c46  \" \\n\\n == Sources == \\n\\n * Zawe Ashton on Lap...\n",
       "3  00017563c3f7919a  :If you have a look back at the source, the in...\n",
       "4  00017695ad8997eb          I don't anonymously edit articles at all.\n",
       "5  0001ea8717f6de06  Thank you for understanding. I think very high...\n",
       "6  00024115d4cbde0f  Please do not add nonsense to Wikipedia. Such ...\n",
       "7  000247e83dcc1211                   :Dear god this site is horrible.\n",
       "8  00025358d4737918  \" \\n Only a fool can believe in such numbers. ...\n",
       "9  00026d1092fe71cc  == Double Redirects == \\n\\n When fixing double..."
      ]
     },
     "execution_count": 8,
     "metadata": {},
     "output_type": "execute_result"
    }
   ],
   "source": [
    "\n",
    "test_data.head(10)"
   ]
  },
  {
   "cell_type": "code",
   "execution_count": 9,
   "id": "43f4d392",
   "metadata": {
    "execution": {
     "iopub.execute_input": "2022-06-13T18:07:52.930570Z",
     "iopub.status.busy": "2022-06-13T18:07:52.930278Z",
     "iopub.status.idle": "2022-06-13T18:07:52.946249Z",
     "shell.execute_reply": "2022-06-13T18:07:52.945032Z"
    },
    "papermill": {
     "duration": 0.060379,
     "end_time": "2022-06-13T18:07:52.948778",
     "exception": false,
     "start_time": "2022-06-13T18:07:52.888399",
     "status": "completed"
    },
    "tags": []
   },
   "outputs": [],
   "source": [
    "\n",
    "test_label_data = test_label_data.loc[test_label_data['toxic']!=-1]"
   ]
  },
  {
   "cell_type": "code",
   "execution_count": 10,
   "id": "fb8ba7b1",
   "metadata": {
    "execution": {
     "iopub.execute_input": "2022-06-13T18:07:53.032854Z",
     "iopub.status.busy": "2022-06-13T18:07:53.032512Z",
     "iopub.status.idle": "2022-06-13T18:07:53.046569Z",
     "shell.execute_reply": "2022-06-13T18:07:53.045571Z"
    },
    "papermill": {
     "duration": 0.059294,
     "end_time": "2022-06-13T18:07:53.048646",
     "exception": false,
     "start_time": "2022-06-13T18:07:52.989352",
     "status": "completed"
    },
    "tags": []
   },
   "outputs": [
    {
     "data": {
      "text/plain": [
       "toxic           0.095189\n",
       "severe_toxic    0.005736\n",
       "obscene         0.057692\n",
       "threat          0.003298\n",
       "insult          0.053565\n",
       "dtype: float64"
      ]
     },
     "execution_count": 10,
     "metadata": {},
     "output_type": "execute_result"
    }
   ],
   "source": [
    "\n",
    "test_label_data.iloc[:,1:-1].sum(axis=0) / test_label_data.shape[0]"
   ]
  },
  {
   "cell_type": "code",
   "execution_count": 11,
   "id": "be110137",
   "metadata": {
    "execution": {
     "iopub.execute_input": "2022-06-13T18:07:53.133362Z",
     "iopub.status.busy": "2022-06-13T18:07:53.133071Z",
     "iopub.status.idle": "2022-06-13T18:07:53.268114Z",
     "shell.execute_reply": "2022-06-13T18:07:53.267261Z"
    },
    "papermill": {
     "duration": 0.180291,
     "end_time": "2022-06-13T18:07:53.270868",
     "exception": false,
     "start_time": "2022-06-13T18:07:53.090577",
     "status": "completed"
    },
    "tags": []
   },
   "outputs": [
    {
     "data": {
      "text/html": [
       "<div>\n",
       "<style scoped>\n",
       "    .dataframe tbody tr th:only-of-type {\n",
       "        vertical-align: middle;\n",
       "    }\n",
       "\n",
       "    .dataframe tbody tr th {\n",
       "        vertical-align: top;\n",
       "    }\n",
       "\n",
       "    .dataframe thead th {\n",
       "        text-align: right;\n",
       "    }\n",
       "</style>\n",
       "<table border=\"1\" class=\"dataframe\">\n",
       "  <thead>\n",
       "    <tr style=\"text-align: right;\">\n",
       "      <th></th>\n",
       "      <th>id</th>\n",
       "      <th>toxic</th>\n",
       "      <th>severe_toxic</th>\n",
       "      <th>obscene</th>\n",
       "      <th>threat</th>\n",
       "      <th>insult</th>\n",
       "      <th>identity_hate</th>\n",
       "      <th>comment_text</th>\n",
       "    </tr>\n",
       "  </thead>\n",
       "  <tbody>\n",
       "    <tr>\n",
       "      <th>0</th>\n",
       "      <td>0001ea8717f6de06</td>\n",
       "      <td>0</td>\n",
       "      <td>0</td>\n",
       "      <td>0</td>\n",
       "      <td>0</td>\n",
       "      <td>0</td>\n",
       "      <td>0</td>\n",
       "      <td>Thank you for understanding. I think very high...</td>\n",
       "    </tr>\n",
       "    <tr>\n",
       "      <th>1</th>\n",
       "      <td>000247e83dcc1211</td>\n",
       "      <td>0</td>\n",
       "      <td>0</td>\n",
       "      <td>0</td>\n",
       "      <td>0</td>\n",
       "      <td>0</td>\n",
       "      <td>0</td>\n",
       "      <td>:Dear god this site is horrible.</td>\n",
       "    </tr>\n",
       "    <tr>\n",
       "      <th>2</th>\n",
       "      <td>0002f87b16116a7f</td>\n",
       "      <td>0</td>\n",
       "      <td>0</td>\n",
       "      <td>0</td>\n",
       "      <td>0</td>\n",
       "      <td>0</td>\n",
       "      <td>0</td>\n",
       "      <td>\"::: Somebody will invariably try to add Relig...</td>\n",
       "    </tr>\n",
       "    <tr>\n",
       "      <th>3</th>\n",
       "      <td>0003e1cccfd5a40a</td>\n",
       "      <td>0</td>\n",
       "      <td>0</td>\n",
       "      <td>0</td>\n",
       "      <td>0</td>\n",
       "      <td>0</td>\n",
       "      <td>0</td>\n",
       "      <td>\" \\n\\n It says it right there that it IS a typ...</td>\n",
       "    </tr>\n",
       "    <tr>\n",
       "      <th>4</th>\n",
       "      <td>00059ace3e3e9a53</td>\n",
       "      <td>0</td>\n",
       "      <td>0</td>\n",
       "      <td>0</td>\n",
       "      <td>0</td>\n",
       "      <td>0</td>\n",
       "      <td>0</td>\n",
       "      <td>\" \\n\\n == Before adding a new product to the l...</td>\n",
       "    </tr>\n",
       "    <tr>\n",
       "      <th>5</th>\n",
       "      <td>000663aff0fffc80</td>\n",
       "      <td>0</td>\n",
       "      <td>0</td>\n",
       "      <td>0</td>\n",
       "      <td>0</td>\n",
       "      <td>0</td>\n",
       "      <td>0</td>\n",
       "      <td>this other one from 1897</td>\n",
       "    </tr>\n",
       "    <tr>\n",
       "      <th>6</th>\n",
       "      <td>000689dd34e20979</td>\n",
       "      <td>0</td>\n",
       "      <td>0</td>\n",
       "      <td>0</td>\n",
       "      <td>0</td>\n",
       "      <td>0</td>\n",
       "      <td>0</td>\n",
       "      <td>== Reason for banning throwing == \\n\\n This ar...</td>\n",
       "    </tr>\n",
       "    <tr>\n",
       "      <th>7</th>\n",
       "      <td>000844b52dee5f3f</td>\n",
       "      <td>0</td>\n",
       "      <td>0</td>\n",
       "      <td>0</td>\n",
       "      <td>0</td>\n",
       "      <td>0</td>\n",
       "      <td>0</td>\n",
       "      <td>|blocked]] from editing Wikipedia.   |</td>\n",
       "    </tr>\n",
       "    <tr>\n",
       "      <th>8</th>\n",
       "      <td>00091c35fa9d0465</td>\n",
       "      <td>1</td>\n",
       "      <td>0</td>\n",
       "      <td>0</td>\n",
       "      <td>0</td>\n",
       "      <td>0</td>\n",
       "      <td>0</td>\n",
       "      <td>== Arabs are committing genocide in Iraq, but ...</td>\n",
       "    </tr>\n",
       "    <tr>\n",
       "      <th>9</th>\n",
       "      <td>000968ce11f5ee34</td>\n",
       "      <td>0</td>\n",
       "      <td>0</td>\n",
       "      <td>0</td>\n",
       "      <td>0</td>\n",
       "      <td>0</td>\n",
       "      <td>0</td>\n",
       "      <td>Please stop. If you continue to vandalize Wiki...</td>\n",
       "    </tr>\n",
       "  </tbody>\n",
       "</table>\n",
       "</div>"
      ],
      "text/plain": [
       "                 id  toxic  severe_toxic  obscene  threat  insult  \\\n",
       "0  0001ea8717f6de06      0             0        0       0       0   \n",
       "1  000247e83dcc1211      0             0        0       0       0   \n",
       "2  0002f87b16116a7f      0             0        0       0       0   \n",
       "3  0003e1cccfd5a40a      0             0        0       0       0   \n",
       "4  00059ace3e3e9a53      0             0        0       0       0   \n",
       "5  000663aff0fffc80      0             0        0       0       0   \n",
       "6  000689dd34e20979      0             0        0       0       0   \n",
       "7  000844b52dee5f3f      0             0        0       0       0   \n",
       "8  00091c35fa9d0465      1             0        0       0       0   \n",
       "9  000968ce11f5ee34      0             0        0       0       0   \n",
       "\n",
       "   identity_hate                                       comment_text  \n",
       "0              0  Thank you for understanding. I think very high...  \n",
       "1              0                   :Dear god this site is horrible.  \n",
       "2              0  \"::: Somebody will invariably try to add Relig...  \n",
       "3              0  \" \\n\\n It says it right there that it IS a typ...  \n",
       "4              0  \" \\n\\n == Before adding a new product to the l...  \n",
       "5              0                           this other one from 1897  \n",
       "6              0  == Reason for banning throwing == \\n\\n This ar...  \n",
       "7              0             |blocked]] from editing Wikipedia.   |  \n",
       "8              0  == Arabs are committing genocide in Iraq, but ...  \n",
       "9              0  Please stop. If you continue to vandalize Wiki...  "
      ]
     },
     "execution_count": 11,
     "metadata": {},
     "output_type": "execute_result"
    }
   ],
   "source": [
    "\n",
    "\n",
    "test = test_label_data.merge(test_data, on='id', how=\"inner\")\n",
    "test.head(10)\n"
   ]
  },
  {
   "cell_type": "markdown",
   "id": "81e611a6",
   "metadata": {
    "papermill": {
     "duration": 0.041909,
     "end_time": "2022-06-13T18:07:53.354669",
     "exception": false,
     "start_time": "2022-06-13T18:07:53.312760",
     "status": "completed"
    },
    "tags": []
   },
   "source": [
    "# Cleaning the texts/Comments"
   ]
  },
  {
   "cell_type": "code",
   "execution_count": 12,
   "id": "e118f79a",
   "metadata": {
    "execution": {
     "iopub.execute_input": "2022-06-13T18:07:53.440721Z",
     "iopub.status.busy": "2022-06-13T18:07:53.440170Z",
     "iopub.status.idle": "2022-06-13T18:07:53.447456Z",
     "shell.execute_reply": "2022-06-13T18:07:53.446696Z"
    },
    "papermill": {
     "duration": 0.052468,
     "end_time": "2022-06-13T18:07:53.449561",
     "exception": false,
     "start_time": "2022-06-13T18:07:53.397093",
     "status": "completed"
    },
    "tags": []
   },
   "outputs": [],
   "source": [
    "#preprocesses a text\n",
    "\n",
    "def preprocess(corpus):\n",
    "    \n",
    "    '''\n",
    "    From a string, make text lowercase, remove hyperlinks, punctuation, word containing numbers, stopwords.\n",
    "    Input : a list of strings\n",
    "    Output : a list of tokens stored in a generator (yield)\n",
    "    '''\n",
    "\n",
    "    for text in corpus:\n",
    "\n",
    "        text = text.lower()                                               # Lowercase\n",
    "        text = re.sub(r'https?://[^\\s\\n\\r]+', '', text)                   # Remove links\n",
    "        text = re.sub('[%s]' % re.escape(string.punctuation), '', text)   # Remove punctuation\n",
    "        text = re.sub('\\w*\\d\\w*', '', text)                               # Remove words containing numbers\n",
    "    \n",
    "        yield ' '.join([word for word in text.split(' ') if word not in stopwords_english]) # Return a generator \n"
   ]
  },
  {
   "cell_type": "code",
   "execution_count": 13,
   "id": "78ba67b9",
   "metadata": {
    "execution": {
     "iopub.execute_input": "2022-06-13T18:07:53.535217Z",
     "iopub.status.busy": "2022-06-13T18:07:53.534783Z",
     "iopub.status.idle": "2022-06-13T18:08:32.150141Z",
     "shell.execute_reply": "2022-06-13T18:08:32.149174Z"
    },
    "papermill": {
     "duration": 38.702055,
     "end_time": "2022-06-13T18:08:32.193292",
     "exception": false,
     "start_time": "2022-06-13T18:07:53.491237",
     "status": "completed"
    },
    "tags": []
   },
   "outputs": [
    {
     "name": "stdout",
     "output_type": "stream",
     "text": [
      "CPU times: user 38.5 s, sys: 78.7 ms, total: 38.6 s\n",
      "Wall time: 38.6 s\n"
     ]
    }
   ],
   "source": [
    "%%time\n",
    "\n",
    "clean_comments = list(preprocess(train_data['comment_text']))"
   ]
  },
  {
   "cell_type": "code",
   "execution_count": 14,
   "id": "e91d6dfe",
   "metadata": {
    "execution": {
     "iopub.execute_input": "2022-06-13T18:08:32.281742Z",
     "iopub.status.busy": "2022-06-13T18:08:32.281154Z",
     "iopub.status.idle": "2022-06-13T18:08:32.289681Z",
     "shell.execute_reply": "2022-06-13T18:08:32.288471Z"
    },
    "papermill": {
     "duration": 0.056198,
     "end_time": "2022-06-13T18:08:32.292547",
     "exception": false,
     "start_time": "2022-06-13T18:08:32.236349",
     "status": "completed"
    },
    "tags": []
   },
   "outputs": [
    {
     "name": "stdout",
     "output_type": "stream",
     "text": [
      "explanation\n",
      "why edits made username hardcore metallica fan reverted werent vandalisms closure gas voted new york dolls fac please dont remove template talk page since im retired \n",
      "------------\n",
      "daww matches background colour im seemingly stuck thanks  talk  january   utc\n",
      "------------\n",
      "hey man im really trying edit war guy constantly removing relevant information talking edits instead talk page seems care formatting actual info\n",
      "------------\n",
      "\n",
      "more\n",
      "i cant make real suggestions improvement  wondered section statistics later subsection types accidents  think references may need tidying exact format ie date format etc later noone else first  preferences formatting style references want please let know\n",
      "\n",
      "there appears backlog articles review guess may delay reviewer turns listed relevant form eg wikipediagoodarticlenominationstransport  \n",
      "------------\n",
      "sir hero chance remember page thats\n",
      "------------\n",
      "\n",
      "\n",
      "congratulations well use tools well  · talk \n",
      "------------\n",
      "cocksucker piss around work\n",
      "------------\n",
      "vandalism matt shirvington article reverted  please dont banned\n",
      "------------\n",
      "sorry word nonsense offensive anyway im intending write anything articlewow would jump vandalism im merely requesting encyclopedic one use school reference selective breeding page almost stub points animal breeding short messy article gives info must someone around expertise eugenics \n",
      "------------\n",
      "alignment subject contrary dulithgow\n",
      "------------\n"
     ]
    }
   ],
   "source": [
    "\n",
    "for i in range(10):\n",
    "    print(clean_comments[i])\n",
    "    print('------------')\n",
    "\n"
   ]
  },
  {
   "cell_type": "code",
   "execution_count": 15,
   "id": "c1bfd5d3",
   "metadata": {
    "execution": {
     "iopub.execute_input": "2022-06-13T18:08:32.381099Z",
     "iopub.status.busy": "2022-06-13T18:08:32.380320Z",
     "iopub.status.idle": "2022-06-13T18:08:47.693899Z",
     "shell.execute_reply": "2022-06-13T18:08:47.693045Z"
    },
    "papermill": {
     "duration": 15.360303,
     "end_time": "2022-06-13T18:08:47.696197",
     "exception": false,
     "start_time": "2022-06-13T18:08:32.335894",
     "status": "completed"
    },
    "tags": []
   },
   "outputs": [
    {
     "name": "stdout",
     "output_type": "stream",
     "text": [
      "CPU times: user 15.3 s, sys: 28.5 ms, total: 15.3 s\n",
      "Wall time: 15.3 s\n"
     ]
    }
   ],
   "source": [
    "%%time\n",
    "# for the test set\n",
    "test_clean_comments = list(preprocess(test[\"comment_text\"]))"
   ]
  },
  {
   "cell_type": "markdown",
   "id": "0d13edfb",
   "metadata": {
    "papermill": {
     "duration": 0.04306,
     "end_time": "2022-06-13T18:08:47.782219",
     "exception": false,
     "start_time": "2022-06-13T18:08:47.739159",
     "status": "completed"
    },
    "tags": []
   },
   "source": [
    "# Feature Generation / Word Embeddings"
   ]
  },
  {
   "cell_type": "markdown",
   "id": "6f79f06b",
   "metadata": {
    "papermill": {
     "duration": 0.042551,
     "end_time": "2022-06-13T18:08:47.868469",
     "exception": false,
     "start_time": "2022-06-13T18:08:47.825918",
     "status": "completed"
    },
    "tags": []
   },
   "source": [
    "1) BOW (Bag of words) --> BOW method calculates the frequency of a word for each document, based on a Vocabulary."
   ]
  },
  {
   "cell_type": "code",
   "execution_count": 16,
   "id": "7a8c3d6b",
   "metadata": {
    "execution": {
     "iopub.execute_input": "2022-06-13T18:08:47.956525Z",
     "iopub.status.busy": "2022-06-13T18:08:47.955756Z",
     "iopub.status.idle": "2022-06-13T18:08:58.436301Z",
     "shell.execute_reply": "2022-06-13T18:08:58.435413Z"
    },
    "papermill": {
     "duration": 10.527246,
     "end_time": "2022-06-13T18:08:58.439045",
     "exception": false,
     "start_time": "2022-06-13T18:08:47.911799",
     "status": "completed"
    },
    "tags": []
   },
   "outputs": [
    {
     "name": "stdout",
     "output_type": "stream",
     "text": [
      "CPU times: user 10.3 s, sys: 159 ms, total: 10.5 s\n",
      "Wall time: 10.5 s\n"
     ]
    }
   ],
   "source": [
    "%%time\n",
    "\n",
    "# Bag-of-words\n",
    "vectorizer = CountVectorizer(min_df=3,max_df=0.9) #Filter words that are note present at least in min_df documents & no more that 90% of all documents\n",
    "bow = vectorizer.fit_transform(clean_comments) #return a document-term matrix (n_samples,n_features)\n",
    "bow_test = vectorizer.transform(test_clean_comments) # We do the same for test set, we just transform to have the same number of words"
   ]
  },
  {
   "cell_type": "code",
   "execution_count": 17,
   "id": "4ee5db90",
   "metadata": {
    "execution": {
     "iopub.execute_input": "2022-06-13T18:08:58.527704Z",
     "iopub.status.busy": "2022-06-13T18:08:58.527255Z",
     "iopub.status.idle": "2022-06-13T18:08:58.532618Z",
     "shell.execute_reply": "2022-06-13T18:08:58.532032Z"
    },
    "papermill": {
     "duration": 0.051797,
     "end_time": "2022-06-13T18:08:58.534720",
     "exception": false,
     "start_time": "2022-06-13T18:08:58.482923",
     "status": "completed"
    },
    "tags": []
   },
   "outputs": [
    {
     "data": {
      "text/plain": [
       "((159571, 52731), (63978, 52731))"
      ]
     },
     "execution_count": 17,
     "metadata": {},
     "output_type": "execute_result"
    }
   ],
   "source": [
    "bow.shape , bow_test.shape"
   ]
  },
  {
   "cell_type": "code",
   "execution_count": 18,
   "id": "b819d5aa",
   "metadata": {
    "execution": {
     "iopub.execute_input": "2022-06-13T18:08:58.624001Z",
     "iopub.status.busy": "2022-06-13T18:08:58.623474Z",
     "iopub.status.idle": "2022-06-13T18:08:58.686242Z",
     "shell.execute_reply": "2022-06-13T18:08:58.685040Z"
    },
    "papermill": {
     "duration": 0.110783,
     "end_time": "2022-06-13T18:08:58.688653",
     "exception": false,
     "start_time": "2022-06-13T18:08:58.577870",
     "status": "completed"
    },
    "tags": []
   },
   "outputs": [
    {
     "name": "stdout",
     "output_type": "stream",
     "text": [
      "['aa' 'aaa' 'aaand' 'aac' 'aachen' 'aah' 'aaliyah' 'aamir' 'aan' 'aand'\n",
      " 'aang' 'aap' 'aaps' 'aar' 'aardvark' 'aarem' 'aaron' 'aarons' 'aas'\n",
      " 'aatalk' 'aau' 'aave' 'ab' 'aba' 'aback' 'abad' 'abaddon' 'abandon'\n",
      " 'abandoned' 'abandoning']\n",
      "------------\n"
     ]
    }
   ],
   "source": [
    "# Let's take a look at the features / vocabulary\n",
    "print(vectorizer.get_feature_names_out()[:30])\n",
    "print('------------')\n"
   ]
  },
  {
   "cell_type": "markdown",
   "id": "2d8fa7b5",
   "metadata": {
    "papermill": {
     "duration": 0.044647,
     "end_time": "2022-06-13T18:08:58.777778",
     "exception": false,
     "start_time": "2022-06-13T18:08:58.733131",
     "status": "completed"
    },
    "tags": []
   },
   "source": [
    "2) TFIDF(term frequency Inverse Document frequency) --> its a measure of originality of a word by comparing number of times a word occurs in a document with the number of documents word appears in ."
   ]
  },
  {
   "cell_type": "code",
   "execution_count": 19,
   "id": "ad8f9c36",
   "metadata": {
    "execution": {
     "iopub.execute_input": "2022-06-13T18:08:58.869856Z",
     "iopub.status.busy": "2022-06-13T18:08:58.869435Z",
     "iopub.status.idle": "2022-06-13T18:09:10.485779Z",
     "shell.execute_reply": "2022-06-13T18:09:10.484814Z"
    },
    "papermill": {
     "duration": 11.66597,
     "end_time": "2022-06-13T18:09:10.488539",
     "exception": false,
     "start_time": "2022-06-13T18:08:58.822569",
     "status": "completed"
    },
    "tags": []
   },
   "outputs": [
    {
     "name": "stdout",
     "output_type": "stream",
     "text": [
      "retired - 0.23463073672537277\n",
      "im - 0.10315628931380577\n",
      "since - 0.12393740218264492\n",
      "page - 0.08415538256309268\n",
      "talk - 0.08938379346711013\n",
      "template - 0.16253612404663842\n",
      "remove - 0.13918564231425046\n",
      "dont - 0.0940052964617289\n",
      "please - 0.09075567863751748\n",
      "fac - 0.22912461212758947\n"
     ]
    }
   ],
   "source": [
    "# Word embeddings\n",
    "tfidf_vec = TfidfVectorizer(min_df=1,max_df=0.9)\n",
    "tfidf = tfidf_vec.fit_transform(clean_comments)\n",
    "tfidf_test = tfidf_vec.transform(test_clean_comments)\n",
    "# print(tfidf_vec.get_feature_names_out()[:30])\n",
    "feature_names = tfidf_vec.get_feature_names_out()\n",
    "i = 0\n",
    "for col in tfidf.nonzero()[1]: \n",
    "    print(feature_names[col],'-',tfidf[0,col])\n",
    "    i=i+1\n",
    "    if i==10:\n",
    "        break \n",
    "    "
   ]
  },
  {
   "cell_type": "markdown",
   "id": "a0e2d2d8",
   "metadata": {
    "papermill": {
     "duration": 0.044583,
     "end_time": "2022-06-13T18:09:10.578910",
     "exception": false,
     "start_time": "2022-06-13T18:09:10.534327",
     "status": "completed"
    },
    "tags": []
   },
   "source": [
    "# Models\n",
    "****Train & Test preparation****"
   ]
  },
  {
   "cell_type": "code",
   "execution_count": 20,
   "id": "0ced9481",
   "metadata": {
    "execution": {
     "iopub.execute_input": "2022-06-13T18:09:10.670716Z",
     "iopub.status.busy": "2022-06-13T18:09:10.670093Z",
     "iopub.status.idle": "2022-06-13T18:09:10.683954Z",
     "shell.execute_reply": "2022-06-13T18:09:10.683360Z"
    },
    "papermill": {
     "duration": 0.062535,
     "end_time": "2022-06-13T18:09:10.685867",
     "exception": false,
     "start_time": "2022-06-13T18:09:10.623332",
     "status": "completed"
    },
    "tags": []
   },
   "outputs": [
    {
     "data": {
      "text/html": [
       "<div>\n",
       "<style scoped>\n",
       "    .dataframe tbody tr th:only-of-type {\n",
       "        vertical-align: middle;\n",
       "    }\n",
       "\n",
       "    .dataframe tbody tr th {\n",
       "        vertical-align: top;\n",
       "    }\n",
       "\n",
       "    .dataframe thead th {\n",
       "        text-align: right;\n",
       "    }\n",
       "</style>\n",
       "<table border=\"1\" class=\"dataframe\">\n",
       "  <thead>\n",
       "    <tr style=\"text-align: right;\">\n",
       "      <th></th>\n",
       "      <th>toxic</th>\n",
       "      <th>severe_toxic</th>\n",
       "      <th>obscene</th>\n",
       "      <th>threat</th>\n",
       "      <th>insult</th>\n",
       "      <th>identity_hate</th>\n",
       "    </tr>\n",
       "  </thead>\n",
       "  <tbody>\n",
       "    <tr>\n",
       "      <th>0</th>\n",
       "      <td>0</td>\n",
       "      <td>0</td>\n",
       "      <td>0</td>\n",
       "      <td>0</td>\n",
       "      <td>0</td>\n",
       "      <td>0</td>\n",
       "    </tr>\n",
       "    <tr>\n",
       "      <th>1</th>\n",
       "      <td>0</td>\n",
       "      <td>0</td>\n",
       "      <td>0</td>\n",
       "      <td>0</td>\n",
       "      <td>0</td>\n",
       "      <td>0</td>\n",
       "    </tr>\n",
       "    <tr>\n",
       "      <th>2</th>\n",
       "      <td>0</td>\n",
       "      <td>0</td>\n",
       "      <td>0</td>\n",
       "      <td>0</td>\n",
       "      <td>0</td>\n",
       "      <td>0</td>\n",
       "    </tr>\n",
       "    <tr>\n",
       "      <th>3</th>\n",
       "      <td>0</td>\n",
       "      <td>0</td>\n",
       "      <td>0</td>\n",
       "      <td>0</td>\n",
       "      <td>0</td>\n",
       "      <td>0</td>\n",
       "    </tr>\n",
       "    <tr>\n",
       "      <th>4</th>\n",
       "      <td>0</td>\n",
       "      <td>0</td>\n",
       "      <td>0</td>\n",
       "      <td>0</td>\n",
       "      <td>0</td>\n",
       "      <td>0</td>\n",
       "    </tr>\n",
       "  </tbody>\n",
       "</table>\n",
       "</div>"
      ],
      "text/plain": [
       "   toxic  severe_toxic  obscene  threat  insult  identity_hate\n",
       "0      0             0        0       0       0              0\n",
       "1      0             0        0       0       0              0\n",
       "2      0             0        0       0       0              0\n",
       "3      0             0        0       0       0              0\n",
       "4      0             0        0       0       0              0"
      ]
     },
     "execution_count": 20,
     "metadata": {},
     "output_type": "execute_result"
    }
   ],
   "source": [
    "# Let's define target labels\n",
    "target = train_data[['toxic', 'severe_toxic', 'obscene', 'threat','insult', 'identity_hate']]\n",
    "# target = np.array(target) #transform dataframe into array\n",
    "target.head()\n"
   ]
  },
  {
   "cell_type": "code",
   "execution_count": 21,
   "id": "83e64a88",
   "metadata": {
    "execution": {
     "iopub.execute_input": "2022-06-13T18:09:10.780329Z",
     "iopub.status.busy": "2022-06-13T18:09:10.779479Z",
     "iopub.status.idle": "2022-06-13T18:09:10.789781Z",
     "shell.execute_reply": "2022-06-13T18:09:10.788744Z"
    },
    "papermill": {
     "duration": 0.059472,
     "end_time": "2022-06-13T18:09:10.792067",
     "exception": false,
     "start_time": "2022-06-13T18:09:10.732595",
     "status": "completed"
    },
    "tags": []
   },
   "outputs": [
    {
     "data": {
      "text/plain": [
       "toxic            0.095844\n",
       "severe_toxic     0.009996\n",
       "obscene          0.052948\n",
       "threat           0.002996\n",
       "insult           0.049364\n",
       "identity_hate    0.008805\n",
       "dtype: float64"
      ]
     },
     "execution_count": 21,
     "metadata": {},
     "output_type": "execute_result"
    }
   ],
   "source": [
    "target.sum(axis=0) / target.shape[0]"
   ]
  },
  {
   "cell_type": "code",
   "execution_count": 22,
   "id": "3c876cff",
   "metadata": {
    "execution": {
     "iopub.execute_input": "2022-06-13T18:09:10.885633Z",
     "iopub.status.busy": "2022-06-13T18:09:10.885348Z",
     "iopub.status.idle": "2022-06-13T18:09:10.901168Z",
     "shell.execute_reply": "2022-06-13T18:09:10.900423Z"
    },
    "papermill": {
     "duration": 0.064546,
     "end_time": "2022-06-13T18:09:10.903090",
     "exception": false,
     "start_time": "2022-06-13T18:09:10.838544",
     "status": "completed"
    },
    "tags": []
   },
   "outputs": [
    {
     "data": {
      "text/plain": [
       "toxic            0.095189\n",
       "severe_toxic     0.005736\n",
       "obscene          0.057692\n",
       "threat           0.003298\n",
       "insult           0.053565\n",
       "identity_hate    0.011129\n",
       "dtype: float64"
      ]
     },
     "execution_count": 22,
     "metadata": {},
     "output_type": "execute_result"
    }
   ],
   "source": [
    "keys = ['toxic', 'severe_toxic', 'obscene', 'threat','insult', 'identity_hate']\n",
    "test[keys].sum(axis=0) /test.shape[0]"
   ]
  },
  {
   "cell_type": "markdown",
   "id": "9d93ee32",
   "metadata": {
    "papermill": {
     "duration": 0.04493,
     "end_time": "2022-06-13T18:09:10.993623",
     "exception": false,
     "start_time": "2022-06-13T18:09:10.948693",
     "status": "completed"
    },
    "tags": []
   },
   "source": [
    "# Validating Model \n",
    "\n",
    "Train and validate the model"
   ]
  },
  {
   "cell_type": "markdown",
   "id": "10e0fe37",
   "metadata": {
    "papermill": {
     "duration": 0.046285,
     "end_time": "2022-06-13T18:09:11.085788",
     "exception": false,
     "start_time": "2022-06-13T18:09:11.039503",
     "status": "completed"
    },
    "tags": []
   },
   "source": [
    "Naive Bayes model Without maximum likelyhood "
   ]
  },
  {
   "cell_type": "code",
   "execution_count": 23,
   "id": "a25ea378",
   "metadata": {
    "execution": {
     "iopub.execute_input": "2022-06-13T18:09:11.178166Z",
     "iopub.status.busy": "2022-06-13T18:09:11.177860Z",
     "iopub.status.idle": "2022-06-13T18:09:12.081900Z",
     "shell.execute_reply": "2022-06-13T18:09:12.080869Z"
    },
    "papermill": {
     "duration": 0.952761,
     "end_time": "2022-06-13T18:09:12.084028",
     "exception": false,
     "start_time": "2022-06-13T18:09:11.131267",
     "status": "completed"
    },
    "tags": []
   },
   "outputs": [
    {
     "name": "stdout",
     "output_type": "stream",
     "text": [
      "0.826196564897189\n",
      "0.7158978069566581\n",
      "0.8218051327921571\n",
      "0.7340558157644601\n",
      "0.809764046584916\n",
      "0.7838186446360561\n",
      "CV score using Naive Bayes - 0.7819230019385727\n"
     ]
    }
   ],
   "source": [
    "nb_accuracy = {}\n",
    "for i,j in enumerate(target.columns):\n",
    "   \n",
    "    nb = MultinomialNB()\n",
    "\n",
    "    cv_score = np.mean(cross_val_score(nb, tfidf_test,\n",
    "                                       test[j], cv=3, scoring='roc_auc'))\n",
    "    nb_accuracy[j] = cv_score\n",
    "    print(cv_score)\n",
    "nb_accuracy['mdl_accuracy'] = np.mean(list(nb_accuracy.values()))\n",
    "print('CV score using Naive Bayes - {}'.format(np.mean(list(nb_accuracy.values()))))\n",
    "nb_accuracy = pd.Series(nb_accuracy)"
   ]
  },
  {
   "cell_type": "markdown",
   "id": "36dcc45f",
   "metadata": {
    "papermill": {
     "duration": 0.047548,
     "end_time": "2022-06-13T18:09:12.178249",
     "exception": false,
     "start_time": "2022-06-13T18:09:12.130701",
     "status": "completed"
    },
    "tags": []
   },
   "source": [
    "NB-Logistic Regression model "
   ]
  },
  {
   "cell_type": "code",
   "execution_count": 24,
   "id": "0f25ac4c",
   "metadata": {
    "execution": {
     "iopub.execute_input": "2022-06-13T18:09:12.283579Z",
     "iopub.status.busy": "2022-06-13T18:09:12.282851Z",
     "iopub.status.idle": "2022-06-13T18:09:12.287917Z",
     "shell.execute_reply": "2022-06-13T18:09:12.287358Z"
    },
    "papermill": {
     "duration": 0.061943,
     "end_time": "2022-06-13T18:09:12.290332",
     "exception": false,
     "start_time": "2022-06-13T18:09:12.228389",
     "status": "completed"
    },
    "tags": []
   },
   "outputs": [],
   "source": [
    "def probNB(bow,target,cat):\n",
    "\n",
    "    '''\n",
    "    Naive Bayes probability for each word\n",
    "    Inputs :\n",
    "    bow : bag of words (with doc in rows and words in columns)\n",
    "    target : classification vector (filled with 1 and 0)\n",
    "    cat : 1 or 0, in target\n",
    "    Output : \n",
    "    Vector of Naive Bayes probabilities with smoothing (n_words,1)\n",
    "    '''\n",
    "\n",
    "    p = np.array(bow[target==cat].sum(axis=0))\n",
    "\n",
    "    return np.transpose((p+1) / (p.sum() + bow.shape[1]))"
   ]
  },
  {
   "cell_type": "code",
   "execution_count": 25,
   "id": "e6980340",
   "metadata": {
    "execution": {
     "iopub.execute_input": "2022-06-13T18:09:12.397519Z",
     "iopub.status.busy": "2022-06-13T18:09:12.396818Z",
     "iopub.status.idle": "2022-06-13T18:09:12.407572Z",
     "shell.execute_reply": "2022-06-13T18:09:12.406676Z"
    },
    "papermill": {
     "duration": 0.061827,
     "end_time": "2022-06-13T18:09:12.409721",
     "exception": false,
     "start_time": "2022-06-13T18:09:12.347894",
     "status": "completed"
    },
    "tags": []
   },
   "outputs": [],
   "source": [
    "def get_model(bow,target,feature_names,j):\n",
    "\n",
    "    '''\n",
    "    Function that return the log likelihood of a document\n",
    "    Inputs :\n",
    "    bow : bag of words (n_doc,n_words)\n",
    "    target : classification of comments (n_doc,1)\n",
    "    Output : \n",
    "    Return a vector of Log Likelihood for each comment (Naïve Bayes) (n_doc,1)\n",
    "    '''\n",
    "\n",
    "    log = np.log(probNB(bow,target,1)/probNB(bow,target,0))\n",
    "    log1 = log.flatten()\n",
    "    print(type(log1))\n",
    "    print(log1)\n",
    "    ind = np.argpartition(log1,-10)[-10:]\n",
    "    print(ind)\n",
    "    max_value = max(log1)\n",
    "    print(max_value)\n",
    "    index = np.where(log1==max_value)\n",
    "    print(index[0])\n",
    "    for i in ind:\n",
    "        print('most likely feature for label',j,'is',feature_names[i])\n",
    "    \n",
    "    m = bow.dot(log)\n",
    "    model = LogisticRegression().fit(m,target)\n",
    "    return model , log"
   ]
  },
  {
   "cell_type": "code",
   "execution_count": 26,
   "id": "6572ee61",
   "metadata": {
    "execution": {
     "iopub.execute_input": "2022-06-13T18:09:12.513608Z",
     "iopub.status.busy": "2022-06-13T18:09:12.513077Z",
     "iopub.status.idle": "2022-06-13T18:09:16.543236Z",
     "shell.execute_reply": "2022-06-13T18:09:16.542353Z"
    },
    "papermill": {
     "duration": 4.082552,
     "end_time": "2022-06-13T18:09:16.546408",
     "exception": false,
     "start_time": "2022-06-13T18:09:12.463856",
     "status": "completed"
    },
    "tags": []
   },
   "outputs": [
    {
     "name": "stdout",
     "output_type": "stream",
     "text": [
      "fit toxic\n",
      "<class 'numpy.ndarray'>\n",
      "[-1.00899075  0.30301601  0.78403891 ...  1.00349381  1.00349381\n",
      "  1.00349381]\n",
      "[116660  34145  68175  34094  68155  20197  61553  68132 116652  68176]\n",
      "5.174031264791422\n",
      "[68132]\n",
      "most likely feature for label toxic is motherfucking\n",
      "most likely feature for label toxic is cocksucker\n",
      "most likely feature for label toxic is fuckin\n",
      "most likely feature for label toxic is cock\n",
      "most likely feature for label toxic is fucker\n",
      "most likely feature for label toxic is bitch\n",
      "most likely feature for label toxic is faggot\n",
      "most likely feature for label toxic is fuck\n",
      "most likely feature for label toxic is motherfucker\n",
      "most likely feature for label toxic is fucking\n",
      "0.8841105986555999\n",
      "fit severe_toxic\n",
      "<class 'numpy.ndarray'>\n",
      "[-1.14344666  0.14139535  1.0407045  ...  1.2601594   1.2601594\n",
      "  1.2601594 ]\n",
      "[107593  12023  41689  68124  48358  61339 210463 116692 210321 142893]\n",
      "2.8676366189204674\n",
      "[116692]\n",
      "most likely feature for label severe_toxic is malusia\n",
      "most likely feature for label severe_toxic is ashol\n",
      "most likely feature for label severe_toxic is cumshitter\n",
      "most likely feature for label severe_toxic is fuccin\n",
      "most likely feature for label severe_toxic is dikkkkk\n",
      "most likely feature for label severe_toxic is fack\n",
      "most likely feature for label severe_toxic is yourselfgo\n",
      "most likely feature for label severe_toxic is mothjer\n",
      "most likely feature for label severe_toxic is youfuck\n",
      "most likely feature for label severe_toxic is prosttute\n",
      "0.8117292729349739\n",
      "fit obscene\n",
      "<class 'numpy.ndarray'>\n",
      "[-1.03074274  0.01141113  0.91072029 ...  1.13017518  1.13017518\n",
      "  1.13017518]\n",
      "[ 41731  34145 116660  34094  20197 116652  68155  68176  68175  68132]\n",
      "4.648702971544831\n",
      "[68132]\n",
      "most likely feature for label obscene is cunt\n",
      "most likely feature for label obscene is cocksucker\n",
      "most likely feature for label obscene is motherfucking\n",
      "most likely feature for label obscene is cock\n",
      "most likely feature for label obscene is bitch\n",
      "most likely feature for label obscene is motherfucker\n",
      "most likely feature for label obscene is fucker\n",
      "most likely feature for label obscene is fucking\n",
      "most likely feature for label obscene is fuckin\n",
      "most likely feature for label obscene is fuck\n",
      "0.8735658682632993\n",
      "fit threat\n",
      "<class 'numpy.ndarray'>\n",
      "[-1.12569871  0.1591433   1.05845245 ...  1.27790735  1.27790735\n",
      "  1.27790735]\n",
      "[ 77411  12784  12408 117568  62852 169995  95438 212261 118349 212259]\n",
      "2.17300484840872\n",
      "[212261]\n",
      "most likely feature for label threat is hasbeen\n",
      "most likely feature for label threat is asyriac\n",
      "most likely feature for label threat is assholedie\n",
      "most likely feature for label threat is muhajirs\n",
      "most likely feature for label threat is fdsgdfgfd\n",
      "most likely feature for label threat is stabs\n",
      "most likely feature for label threat is karlies\n",
      "most likely feature for label threat is ŷour\n",
      "most likely feature for label threat is musulmans\n",
      "most likely feature for label threat is ŵill\n",
      "0.7822930649113515\n",
      "fit insult\n",
      "<class 'numpy.ndarray'>\n",
      "[-1.02023889  0.02191498  0.92122413 ...  1.14067903  1.14067903\n",
      "  1.14067903]\n",
      "[ 16686  61553 116660  12407  47837 116652  34145  68158  20197  68175]\n",
      "3.4493078080875237\n",
      "[34145]\n",
      "most likely feature for label insult is bastard\n",
      "most likely feature for label insult is faggot\n",
      "most likely feature for label insult is motherfucking\n",
      "most likely feature for label insult is asshole\n",
      "most likely feature for label insult is dickhead\n",
      "most likely feature for label insult is motherfucker\n",
      "most likely feature for label insult is cocksucker\n",
      "most likely feature for label insult is fuckers\n",
      "most likely feature for label insult is bitch\n",
      "most likely feature for label insult is fuckin\n",
      "0.8569351816491234\n",
      "fit identity_hate\n",
      "<class 'numpy.ndarray'>\n",
      "[-1.14377931  0.1410627   1.04037185 ...  1.25982675  1.25982675\n",
      "  1.25982675]\n",
      "[122159  61566 138355  68331 122147 122175 122131 122161 122157 122232]\n",
      "2.5446480418144044\n",
      "[122131]\n",
      "most likely feature for label identity_hate is niggaz\n",
      "most likely feature for label identity_hate is faggotthefortyfive\n",
      "most likely feature for label identity_hate is polock\n",
      "most likely feature for label identity_hate is fukcing\n",
      "most likely feature for label identity_hate is nigga\n",
      "most likely feature for label identity_hate is niggers\n",
      "most likely feature for label identity_hate is nig\n",
      "most likely feature for label identity_hate is nigger\n",
      "most likely feature for label identity_hate is niggas\n",
      "most likely feature for label identity_hate is nightstallions\n",
      "0.8182679639339181\n",
      "CV score using Naive Bayes - 0.8378970640325882\n"
     ]
    }
   ],
   "source": [
    "df_classification = pd.DataFrame() #We store probabilities into a Dataframe\n",
    "df_classification['Comments'] = test['comment_text']\n",
    "classification = pd.Series(index=['identity_hate','insult','obscene','severe_toxic','threat','toxic'],dtype=int)\n",
    "nb_log_accuracy = {}\n",
    "for i,j in enumerate(target.columns):\n",
    "    print('fit', j)\n",
    "    model,log = get_model(tfidf,target[j],feature_names,j)\n",
    "   \n",
    "    df_classification[j] = model.predict(tfidf_test.dot(log))\n",
    "    \n",
    "    cv_score = np.mean(cross_val_score(model, tfidf_test.dot(log),\n",
    "                                       test[j], cv=3, scoring='roc_auc'))\n",
    "    nb_log_accuracy[j] = cv_score\n",
    "    print(cv_score)\n",
    "    nb_log_accuracy['mdl_accuracy'] = np.mean(list(nb_log_accuracy.values()))\n",
    "\n",
    "\n",
    "#     score = model.score(tfidf_test.dot(log) ,test[j])\n",
    "#     print(f\"Accuracy : {score:.4}\")\n",
    "#     print('----')   \n",
    "print('CV score using Naive Bayes - {}'.format(np.mean(list(nb_log_accuracy.values()))))\n",
    "nb_log_accuracy = pd.Series(nb_log_accuracy)\n"
   ]
  },
  {
   "cell_type": "markdown",
   "id": "0734e01b",
   "metadata": {
    "papermill": {
     "duration": 0.053419,
     "end_time": "2022-06-13T18:09:16.691059",
     "exception": false,
     "start_time": "2022-06-13T18:09:16.637640",
     "status": "completed"
    },
    "tags": []
   },
   "source": [
    "# Compare"
   ]
  },
  {
   "cell_type": "code",
   "execution_count": 27,
   "id": "27688b72",
   "metadata": {
    "execution": {
     "iopub.execute_input": "2022-06-13T18:09:16.792394Z",
     "iopub.status.busy": "2022-06-13T18:09:16.792127Z",
     "iopub.status.idle": "2022-06-13T18:09:16.799531Z",
     "shell.execute_reply": "2022-06-13T18:09:16.798672Z"
    },
    "papermill": {
     "duration": 0.061137,
     "end_time": "2022-06-13T18:09:16.801400",
     "exception": false,
     "start_time": "2022-06-13T18:09:16.740263",
     "status": "completed"
    },
    "tags": []
   },
   "outputs": [],
   "source": [
    "class Utility:\n",
    "\n",
    "    \n",
    "\n",
    "    @staticmethod\n",
    "    def compare_models(md1_acc, md1_name, md2_acc, md2_name, title=None):\n",
    "      \n",
    "\n",
    "        md1_acc = md1_acc.mul(100, axis=0)\n",
    "        md2_acc = md2_acc.mul(100, axis=0)\n",
    "        df = pd.DataFrame(md1_acc, columns=[md1_name])\n",
    "        df[md2_name] = md2_acc\n",
    "        my_plot = df.plot(kind='bar', figsize=(12, 10),\n",
    "                          legend=True, grid=True, title=title, stacked=False)\n",
    "        my_plot.set_xlabel(\"Classes\")\n",
    "        my_plot.set_ylabel(\"Accuracy\")\n",
    "        return my_plot"
   ]
  },
  {
   "cell_type": "code",
   "execution_count": 28,
   "id": "a469d27c",
   "metadata": {
    "execution": {
     "iopub.execute_input": "2022-06-13T18:09:16.903620Z",
     "iopub.status.busy": "2022-06-13T18:09:16.903307Z",
     "iopub.status.idle": "2022-06-13T18:09:17.209973Z",
     "shell.execute_reply": "2022-06-13T18:09:17.209077Z"
    },
    "papermill": {
     "duration": 0.361468,
     "end_time": "2022-06-13T18:09:17.212360",
     "exception": false,
     "start_time": "2022-06-13T18:09:16.850892",
     "status": "completed"
    },
    "tags": []
   },
   "outputs": [
    {
     "data": {
      "text/plain": [
       "<AxesSubplot:title={'center':'Naive Bayes vs NB Logistic Regression'}, xlabel='Classes', ylabel='Accuracy'>"
      ]
     },
     "execution_count": 28,
     "metadata": {},
     "output_type": "execute_result"
    },
    {
     "data": {
      "image/png": "[encoded data removed]",
      "text/plain": [
       "<Figure size 864x720 with 1 Axes>"
      ]
     },
     "metadata": {
      "needs_background": "light"
     },
     "output_type": "display_data"
    }
   ],
   "source": [
    "Utility.compare_models(md1_acc=nb_accuracy,md1_name=\"NB\", md2_acc=nb_log_accuracy, md2_name=\"NBLR\",title=\"Naive Bayes vs NB Logistic Regression\")"
   ]
  },
  {
   "cell_type": "markdown",
   "id": "b5bdf8f7",
   "metadata": {
    "papermill": {
     "duration": 0.050807,
     "end_time": "2022-06-13T18:09:17.315087",
     "exception": false,
     "start_time": "2022-06-13T18:09:17.264280",
     "status": "completed"
    },
    "tags": []
   },
   "source": [
    "# Deployment"
   ]
  },
  {
   "cell_type": "code",
   "execution_count": 29,
   "id": "e2aa01f7",
   "metadata": {
    "execution": {
     "iopub.execute_input": "2022-06-13T18:09:17.417761Z",
     "iopub.status.busy": "2022-06-13T18:09:17.417491Z",
     "iopub.status.idle": "2022-06-13T18:09:19.563524Z",
     "shell.execute_reply": "2022-06-13T18:09:19.562530Z"
    },
    "papermill": {
     "duration": 2.201213,
     "end_time": "2022-06-13T18:09:19.566979",
     "exception": false,
     "start_time": "2022-06-13T18:09:17.365766",
     "status": "completed"
    },
    "tags": []
   },
   "outputs": [
    {
     "name": "stdout",
     "output_type": "stream",
     "text": [
      "fit toxic\n",
      "<class 'numpy.ndarray'>\n",
      "[-1.00899075  0.30301601  0.78403891 ...  1.00349381  1.00349381\n",
      "  1.00349381]\n",
      "[116660  34145  68175  34094  68155  20197  61553  68132 116652  68176]\n",
      "5.174031264791422\n",
      "[68132]\n",
      "most likely feature for label toxic is motherfucking\n",
      "most likely feature for label toxic is cocksucker\n",
      "most likely feature for label toxic is fuckin\n",
      "most likely feature for label toxic is cock\n",
      "most likely feature for label toxic is fucker\n",
      "most likely feature for label toxic is bitch\n",
      "most likely feature for label toxic is faggot\n",
      "most likely feature for label toxic is fuck\n",
      "most likely feature for label toxic is motherfucker\n",
      "most likely feature for label toxic is fucking\n",
      "fit severe_toxic\n",
      "<class 'numpy.ndarray'>\n",
      "[-1.14344666  0.14139535  1.0407045  ...  1.2601594   1.2601594\n",
      "  1.2601594 ]\n",
      "[107593  12023  41689  68124  48358  61339 210463 116692 210321 142893]\n",
      "2.8676366189204674\n",
      "[116692]\n",
      "most likely feature for label severe_toxic is malusia\n",
      "most likely feature for label severe_toxic is ashol\n",
      "most likely feature for label severe_toxic is cumshitter\n",
      "most likely feature for label severe_toxic is fuccin\n",
      "most likely feature for label severe_toxic is dikkkkk\n",
      "most likely feature for label severe_toxic is fack\n",
      "most likely feature for label severe_toxic is yourselfgo\n",
      "most likely feature for label severe_toxic is mothjer\n",
      "most likely feature for label severe_toxic is youfuck\n",
      "most likely feature for label severe_toxic is prosttute\n",
      "fit obscene\n",
      "<class 'numpy.ndarray'>\n",
      "[-1.03074274  0.01141113  0.91072029 ...  1.13017518  1.13017518\n",
      "  1.13017518]\n",
      "[ 41731  34145 116660  34094  20197 116652  68155  68176  68175  68132]\n",
      "4.648702971544831\n",
      "[68132]\n",
      "most likely feature for label obscene is cunt\n",
      "most likely feature for label obscene is cocksucker\n",
      "most likely feature for label obscene is motherfucking\n",
      "most likely feature for label obscene is cock\n",
      "most likely feature for label obscene is bitch\n",
      "most likely feature for label obscene is motherfucker\n",
      "most likely feature for label obscene is fucker\n",
      "most likely feature for label obscene is fucking\n",
      "most likely feature for label obscene is fuckin\n",
      "most likely feature for label obscene is fuck\n",
      "fit threat\n",
      "<class 'numpy.ndarray'>\n",
      "[-1.12569871  0.1591433   1.05845245 ...  1.27790735  1.27790735\n",
      "  1.27790735]\n",
      "[ 77411  12784  12408 117568  62852 169995  95438 212261 118349 212259]\n",
      "2.17300484840872\n",
      "[212261]\n",
      "most likely feature for label threat is hasbeen\n",
      "most likely feature for label threat is asyriac\n",
      "most likely feature for label threat is assholedie\n",
      "most likely feature for label threat is muhajirs\n",
      "most likely feature for label threat is fdsgdfgfd\n",
      "most likely feature for label threat is stabs\n",
      "most likely feature for label threat is karlies\n",
      "most likely feature for label threat is ŷour\n",
      "most likely feature for label threat is musulmans\n",
      "most likely feature for label threat is ŵill\n",
      "fit insult\n",
      "<class 'numpy.ndarray'>\n",
      "[-1.02023889  0.02191498  0.92122413 ...  1.14067903  1.14067903\n",
      "  1.14067903]\n",
      "[ 16686  61553 116660  12407  47837 116652  34145  68158  20197  68175]\n",
      "3.4493078080875237\n",
      "[34145]\n",
      "most likely feature for label insult is bastard\n",
      "most likely feature for label insult is faggot\n",
      "most likely feature for label insult is motherfucking\n",
      "most likely feature for label insult is asshole\n",
      "most likely feature for label insult is dickhead\n",
      "most likely feature for label insult is motherfucker\n",
      "most likely feature for label insult is cocksucker\n",
      "most likely feature for label insult is fuckers\n",
      "most likely feature for label insult is bitch\n",
      "most likely feature for label insult is fuckin\n",
      "fit identity_hate\n",
      "<class 'numpy.ndarray'>\n",
      "[-1.14377931  0.1410627   1.04037185 ...  1.25982675  1.25982675\n",
      "  1.25982675]\n",
      "[122159  61566 138355  68331 122147 122175 122131 122161 122157 122232]\n",
      "2.5446480418144044\n",
      "[122131]\n",
      "most likely feature for label identity_hate is niggaz\n",
      "most likely feature for label identity_hate is faggotthefortyfive\n",
      "most likely feature for label identity_hate is polock\n",
      "most likely feature for label identity_hate is fukcing\n",
      "most likely feature for label identity_hate is nigga\n",
      "most likely feature for label identity_hate is niggers\n",
      "most likely feature for label identity_hate is nig\n",
      "most likely feature for label identity_hate is nigger\n",
      "most likely feature for label identity_hate is niggas\n",
      "most likely feature for label identity_hate is nightstallions\n"
     ]
    }
   ],
   "source": [
    "if 1==1:\n",
    "\n",
    "    # TFIDF vectorizer\n",
    "    pickle.dump(tfidf_vec,open('tfidf_vectorizer.pkl','wb'))\n",
    "\n",
    "    # Logistic regression models + Log Likelihood based on Naïve Bayes for each toxicity classification\n",
    "    for i,j in enumerate(target.columns):\n",
    "        print('fit', j)\n",
    "        model,log = get_model(tfidf,target[j],feature_names,j)\n",
    "        pickle.dump(model,open('models_'+f'{target.columns[i]}.pkl','wb'))\n",
    "        pickle.dump(log,open('logs_'+f'{target.columns[i]}.pkl','wb'))\n",
    "        #Save models and logs as tuples"
   ]
  }
 ],
 "metadata": {
  "kernelspec": {
   "display_name": "Python 3",
   "language": "python",
   "name": "python3"
  },
  "language_info": {
   "codemirror_mode": {
    "name": "ipython",
    "version": 3
   },
   "file_extension": ".py",
   "mimetype": "text/x-python",
   "name": "python",
   "nbconvert_exporter": "python",
   "pygments_lexer": "ipython3",
   "version": "3.7.12"
  },
  "papermill": {
   "default_parameters": {},
   "duration": 126.75857,
   "end_time": "2022-06-13T18:09:22.877673",
   "environment_variables": {},
   "exception": null,
   "input_path": "__notebook__.ipynb",
   "output_path": "__notebook__.ipynb",
   "parameters": {},
   "start_time": "2022-06-13T18:07:16.119103",
   "version": "2.3.4"
  }
 },
 "nbformat": 4,
 "nbformat_minor": 5
}
