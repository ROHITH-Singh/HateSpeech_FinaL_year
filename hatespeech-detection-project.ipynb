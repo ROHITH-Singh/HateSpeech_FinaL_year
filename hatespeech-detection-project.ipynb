{
 "cells": [
  {
   "cell_type": "markdown",
   "id": "c42f3f76",
   "metadata": {
    "_cell_guid": "b1076dfc-b9ad-4769-8c92-a6c4dae69d19",
    "_uuid": "8f2839f25d086af736a60e9eeb907d3b93b6e0e5",
    "papermill": {
     "duration": 0.040223,
     "end_time": "2022-05-15T19:00:52.967702",
     "exception": false,
     "start_time": "2022-05-15T19:00:52.927479",
     "status": "completed"
    },
    "tags": []
   },
   "source": [
    "# HATESPEECH DETECTION AND MODERATION \n",
    "An increase of digital adoption due to “jio Effect” in the Indian market  and also due to recent covid made digital participation  of indians on social media more active .which results in online content continues to grow, so does the spread of hate speech .\n"
   ]
  },
  {
   "cell_type": "markdown",
   "id": "4eddcb51",
   "metadata": {
    "papermill": {
     "duration": 0.039268,
     "end_time": "2022-05-15T19:00:53.046636",
     "exception": false,
     "start_time": "2022-05-15T19:00:53.007368",
     "status": "completed"
    },
    "tags": []
   },
   "source": [
    "# Objective\n",
    "The objective of the project is to develop a model that can recognize hate speech in a textual data.\n",
    "The main objectives of the project are listed below:\n",
    "1) detect the hate speech hiding in plain sight.\n",
    "2) classify the hate speech .\n"
   ]
  },
  {
   "cell_type": "markdown",
   "id": "76cc5dc9",
   "metadata": {
    "papermill": {
     "duration": 0.04305,
     "end_time": "2022-05-15T19:00:53.140244",
     "exception": false,
     "start_time": "2022-05-15T19:00:53.097194",
     "status": "completed"
    },
    "tags": []
   },
   "source": [
    "# Libraries"
   ]
  },
  {
   "cell_type": "code",
   "execution_count": 1,
   "id": "7054ba2f",
   "metadata": {
    "execution": {
     "iopub.execute_input": "2022-05-15T19:00:53.219595Z",
     "iopub.status.busy": "2022-05-15T19:00:53.218845Z",
     "iopub.status.idle": "2022-05-15T19:01:14.892601Z",
     "shell.execute_reply": "2022-05-15T19:01:14.891505Z"
    },
    "papermill": {
     "duration": 21.715733,
     "end_time": "2022-05-15T19:01:14.895425",
     "exception": false,
     "start_time": "2022-05-15T19:00:53.179692",
     "status": "completed"
    },
    "tags": []
   },
   "outputs": [
    {
     "name": "stdout",
     "output_type": "stream",
     "text": [
      "[nltk_data] Error loading stopwords: <urlopen error [Errno -3]\n",
      "[nltk_data]     Temporary failure in name resolution>\n"
     ]
    }
   ],
   "source": [
    "import pandas as pd\n",
    "import numpy as np\n",
    "import re\n",
    "import string\n",
    "import itertools as it\n",
    "import pickle\n",
    "import os\n",
    "from  pathlib import Path\n",
    "\n",
    "import nltk\n",
    "from nltk.corpus import stopwords                  # module for stop words that come with NLTK\n",
    "from nltk.stem.wordnet import WordNetLemmatizer    # module for lemmatization\n",
    "from nltk import word_tokenize, pos_tag            # tokenization and Part of Speech tagging\n",
    "\n",
    "nltk.download('stopwords')                         #stopwords used to preprocess the corpus\n",
    "stopwords_english = stopwords.words('english')\n",
    "from sklearn.feature_extraction.text import CountVectorizer,TfidfVectorizer\n",
    "from sklearn.linear_model import LogisticRegression\n",
    "from sklearn.model_selection import train_test_split\n",
    "from sklearn.preprocessing import StandardScaler\n",
    "from sklearn.naive_bayes import MultinomialNB\n",
    "from sklearn.model_selection import cross_val_score\n",
    "from matplotlib import pyplot as plt\n",
    "import matplotlib\n",
    "%matplotlib inline\n"
   ]
  },
  {
   "cell_type": "markdown",
   "id": "fed43c50",
   "metadata": {
    "papermill": {
     "duration": 0.039493,
     "end_time": "2022-05-15T19:01:14.977052",
     "exception": false,
     "start_time": "2022-05-15T19:01:14.937559",
     "status": "completed"
    },
    "tags": []
   },
   "source": [
    "# Dataset Description\n",
    "1) The dataset used in this project has been taken from the Andrii Samoshyn Database and wikipedia comment  who has public license for this dataset . <br>\n",
    "2) The dataset has been split into training data and testing data. <br>\n",
    "3) unique texts classified into 6 labels such 'toxic', 'severe_toxic', 'obscene', 'threat','insult', 'identity_hate' .<br>\n",
    "4) its a raw data which contains links ,userid ,emojis, … <br>\n",
    "5) https://hatespeechdata.com/   its a public maintained data library  on github.\n"
   ]
  },
  {
   "cell_type": "code",
   "execution_count": 2,
   "id": "18b0fb64",
   "metadata": {
    "execution": {
     "iopub.execute_input": "2022-05-15T19:01:15.080384Z",
     "iopub.status.busy": "2022-05-15T19:01:15.080028Z",
     "iopub.status.idle": "2022-05-15T19:01:15.096764Z",
     "shell.execute_reply": "2022-05-15T19:01:15.095461Z"
    },
    "papermill": {
     "duration": 0.076369,
     "end_time": "2022-05-15T19:01:15.099607",
     "exception": false,
     "start_time": "2022-05-15T19:01:15.023238",
     "status": "completed"
    },
    "tags": []
   },
   "outputs": [
    {
     "name": "stdout",
     "output_type": "stream",
     "text": [
      "/kaggle/input/hatespeechdata/test_labels.csv\n",
      "/kaggle/input/hatespeechdata/train_data.csv\n",
      "/kaggle/input/hatespeechdata/train.csv\n",
      "/kaggle/input/hatespeechdata/test.csv\n"
     ]
    }
   ],
   "source": [
    "# This Python 3 environment comes with many helpful analytics libraries installed\n",
    "# It is defined by the kaggle/python Docker image: https://github.com/kaggle/docker-python\n",
    "# For example, here's several helpful packages to load\n",
    "\n",
    "# Input data files are available in the read-only \"../input/\" directory\n",
    "# For example, running this (by clicking run or pressing Shift+Enter) will list all files under the input directory\n",
    "\n",
    "import os\n",
    "for dirname, _, filenames in os.walk('/kaggle/input'):\n",
    "    for filename in filenames:\n",
    "        print(os.path.join(dirname, filename))\n",
    "\n",
    "# You can write up to 20GB to the current directory (/kaggle/working/) that gets preserved as output when you create a version using \"Save & Run All\" \n",
    "# You can also write temporary files to /kaggle/temp/, but they won't be saved outside of the current session"
   ]
  },
  {
   "cell_type": "code",
   "execution_count": 3,
   "id": "a830b543",
   "metadata": {
    "execution": {
     "iopub.execute_input": "2022-05-15T19:01:15.195767Z",
     "iopub.status.busy": "2022-05-15T19:01:15.195012Z",
     "iopub.status.idle": "2022-05-15T19:01:18.755187Z",
     "shell.execute_reply": "2022-05-15T19:01:18.754505Z"
    },
    "papermill": {
     "duration": 3.602316,
     "end_time": "2022-05-15T19:01:18.757523",
     "exception": false,
     "start_time": "2022-05-15T19:01:15.155207",
     "status": "completed"
    },
    "tags": []
   },
   "outputs": [],
   "source": [
    "stopwords_english = stopwords.words('english')\n",
    "train_data = pd.read_csv(\"../input/hatespeechdata/train.csv\")\n",
    "test_data = pd.read_csv('../input/hatespeechdata/test.csv')\n",
    "test_label_data = pd.read_csv('../input/hatespeechdata/test_labels.csv')\n",
    " "
   ]
  },
  {
   "cell_type": "code",
   "execution_count": 4,
   "id": "d5300cc9",
   "metadata": {
    "execution": {
     "iopub.execute_input": "2022-05-15T19:01:18.837913Z",
     "iopub.status.busy": "2022-05-15T19:01:18.837321Z",
     "iopub.status.idle": "2022-05-15T19:01:18.905751Z",
     "shell.execute_reply": "2022-05-15T19:01:18.904140Z"
    },
    "papermill": {
     "duration": 0.110656,
     "end_time": "2022-05-15T19:01:18.907874",
     "exception": false,
     "start_time": "2022-05-15T19:01:18.797218",
     "status": "completed"
    },
    "tags": []
   },
   "outputs": [
    {
     "name": "stdout",
     "output_type": "stream",
     "text": [
      "<class 'pandas.core.frame.DataFrame'>\n",
      "RangeIndex: 159571 entries, 0 to 159570\n",
      "Data columns (total 8 columns):\n",
      " #   Column         Non-Null Count   Dtype \n",
      "---  ------         --------------   ----- \n",
      " 0   id             159571 non-null  object\n",
      " 1   comment_text   159571 non-null  object\n",
      " 2   toxic          159571 non-null  int64 \n",
      " 3   severe_toxic   159571 non-null  int64 \n",
      " 4   obscene        159571 non-null  int64 \n",
      " 5   threat         159571 non-null  int64 \n",
      " 6   insult         159571 non-null  int64 \n",
      " 7   identity_hate  159571 non-null  int64 \n",
      "dtypes: int64(6), object(2)\n",
      "memory usage: 9.7+ MB\n"
     ]
    }
   ],
   "source": [
    "train_data.info()"
   ]
  },
  {
   "cell_type": "code",
   "execution_count": 5,
   "id": "5525993b",
   "metadata": {
    "execution": {
     "iopub.execute_input": "2022-05-15T19:01:18.988474Z",
     "iopub.status.busy": "2022-05-15T19:01:18.988171Z",
     "iopub.status.idle": "2022-05-15T19:01:19.040392Z",
     "shell.execute_reply": "2022-05-15T19:01:19.039593Z"
    },
    "papermill": {
     "duration": 0.09567,
     "end_time": "2022-05-15T19:01:19.042556",
     "exception": false,
     "start_time": "2022-05-15T19:01:18.946886",
     "status": "completed"
    },
    "tags": []
   },
   "outputs": [
    {
     "data": {
      "text/plain": [
       "id               0\n",
       "comment_text     0\n",
       "toxic            0\n",
       "severe_toxic     0\n",
       "obscene          0\n",
       "threat           0\n",
       "insult           0\n",
       "identity_hate    0\n",
       "dtype: int64"
      ]
     },
     "execution_count": 5,
     "metadata": {},
     "output_type": "execute_result"
    }
   ],
   "source": [
    " train_data.isna().sum()"
   ]
  },
  {
   "cell_type": "code",
   "execution_count": 6,
   "id": "c63225f1",
   "metadata": {
    "execution": {
     "iopub.execute_input": "2022-05-15T19:01:19.124172Z",
     "iopub.status.busy": "2022-05-15T19:01:19.123589Z",
     "iopub.status.idle": "2022-05-15T19:01:19.139626Z",
     "shell.execute_reply": "2022-05-15T19:01:19.138804Z"
    },
    "papermill": {
     "duration": 0.058672,
     "end_time": "2022-05-15T19:01:19.141577",
     "exception": false,
     "start_time": "2022-05-15T19:01:19.082905",
     "status": "completed"
    },
    "tags": []
   },
   "outputs": [
    {
     "data": {
      "text/html": [
       "<div>\n",
       "<style scoped>\n",
       "    .dataframe tbody tr th:only-of-type {\n",
       "        vertical-align: middle;\n",
       "    }\n",
       "\n",
       "    .dataframe tbody tr th {\n",
       "        vertical-align: top;\n",
       "    }\n",
       "\n",
       "    .dataframe thead th {\n",
       "        text-align: right;\n",
       "    }\n",
       "</style>\n",
       "<table border=\"1\" class=\"dataframe\">\n",
       "  <thead>\n",
       "    <tr style=\"text-align: right;\">\n",
       "      <th></th>\n",
       "      <th>id</th>\n",
       "      <th>comment_text</th>\n",
       "      <th>toxic</th>\n",
       "      <th>severe_toxic</th>\n",
       "      <th>obscene</th>\n",
       "      <th>threat</th>\n",
       "      <th>insult</th>\n",
       "      <th>identity_hate</th>\n",
       "    </tr>\n",
       "  </thead>\n",
       "  <tbody>\n",
       "    <tr>\n",
       "      <th>0</th>\n",
       "      <td>0000997932d777bf</td>\n",
       "      <td>Explanation\\nWhy the edits made under my usern...</td>\n",
       "      <td>0</td>\n",
       "      <td>0</td>\n",
       "      <td>0</td>\n",
       "      <td>0</td>\n",
       "      <td>0</td>\n",
       "      <td>0</td>\n",
       "    </tr>\n",
       "    <tr>\n",
       "      <th>1</th>\n",
       "      <td>000103f0d9cfb60f</td>\n",
       "      <td>D'aww! He matches this background colour I'm s...</td>\n",
       "      <td>0</td>\n",
       "      <td>0</td>\n",
       "      <td>0</td>\n",
       "      <td>0</td>\n",
       "      <td>0</td>\n",
       "      <td>0</td>\n",
       "    </tr>\n",
       "    <tr>\n",
       "      <th>2</th>\n",
       "      <td>000113f07ec002fd</td>\n",
       "      <td>Hey man, I'm really not trying to edit war. It...</td>\n",
       "      <td>0</td>\n",
       "      <td>0</td>\n",
       "      <td>0</td>\n",
       "      <td>0</td>\n",
       "      <td>0</td>\n",
       "      <td>0</td>\n",
       "    </tr>\n",
       "    <tr>\n",
       "      <th>3</th>\n",
       "      <td>0001b41b1c6bb37e</td>\n",
       "      <td>\"\\nMore\\nI can't make any real suggestions on ...</td>\n",
       "      <td>0</td>\n",
       "      <td>0</td>\n",
       "      <td>0</td>\n",
       "      <td>0</td>\n",
       "      <td>0</td>\n",
       "      <td>0</td>\n",
       "    </tr>\n",
       "    <tr>\n",
       "      <th>4</th>\n",
       "      <td>0001d958c54c6e35</td>\n",
       "      <td>You, sir, are my hero. Any chance you remember...</td>\n",
       "      <td>0</td>\n",
       "      <td>0</td>\n",
       "      <td>0</td>\n",
       "      <td>0</td>\n",
       "      <td>0</td>\n",
       "      <td>0</td>\n",
       "    </tr>\n",
       "    <tr>\n",
       "      <th>5</th>\n",
       "      <td>00025465d4725e87</td>\n",
       "      <td>\"\\n\\nCongratulations from me as well, use the ...</td>\n",
       "      <td>0</td>\n",
       "      <td>0</td>\n",
       "      <td>0</td>\n",
       "      <td>0</td>\n",
       "      <td>0</td>\n",
       "      <td>0</td>\n",
       "    </tr>\n",
       "    <tr>\n",
       "      <th>6</th>\n",
       "      <td>0002bcb3da6cb337</td>\n",
       "      <td>COCKSUCKER BEFORE YOU PISS AROUND ON MY WORK</td>\n",
       "      <td>1</td>\n",
       "      <td>1</td>\n",
       "      <td>1</td>\n",
       "      <td>0</td>\n",
       "      <td>1</td>\n",
       "      <td>0</td>\n",
       "    </tr>\n",
       "    <tr>\n",
       "      <th>7</th>\n",
       "      <td>00031b1e95af7921</td>\n",
       "      <td>Your vandalism to the Matt Shirvington article...</td>\n",
       "      <td>0</td>\n",
       "      <td>0</td>\n",
       "      <td>0</td>\n",
       "      <td>0</td>\n",
       "      <td>0</td>\n",
       "      <td>0</td>\n",
       "    </tr>\n",
       "    <tr>\n",
       "      <th>8</th>\n",
       "      <td>00037261f536c51d</td>\n",
       "      <td>Sorry if the word 'nonsense' was offensive to ...</td>\n",
       "      <td>0</td>\n",
       "      <td>0</td>\n",
       "      <td>0</td>\n",
       "      <td>0</td>\n",
       "      <td>0</td>\n",
       "      <td>0</td>\n",
       "    </tr>\n",
       "    <tr>\n",
       "      <th>9</th>\n",
       "      <td>00040093b2687caa</td>\n",
       "      <td>alignment on this subject and which are contra...</td>\n",
       "      <td>0</td>\n",
       "      <td>0</td>\n",
       "      <td>0</td>\n",
       "      <td>0</td>\n",
       "      <td>0</td>\n",
       "      <td>0</td>\n",
       "    </tr>\n",
       "  </tbody>\n",
       "</table>\n",
       "</div>"
      ],
      "text/plain": [
       "                 id                                       comment_text  toxic  \\\n",
       "0  0000997932d777bf  Explanation\\nWhy the edits made under my usern...      0   \n",
       "1  000103f0d9cfb60f  D'aww! He matches this background colour I'm s...      0   \n",
       "2  000113f07ec002fd  Hey man, I'm really not trying to edit war. It...      0   \n",
       "3  0001b41b1c6bb37e  \"\\nMore\\nI can't make any real suggestions on ...      0   \n",
       "4  0001d958c54c6e35  You, sir, are my hero. Any chance you remember...      0   \n",
       "5  00025465d4725e87  \"\\n\\nCongratulations from me as well, use the ...      0   \n",
       "6  0002bcb3da6cb337       COCKSUCKER BEFORE YOU PISS AROUND ON MY WORK      1   \n",
       "7  00031b1e95af7921  Your vandalism to the Matt Shirvington article...      0   \n",
       "8  00037261f536c51d  Sorry if the word 'nonsense' was offensive to ...      0   \n",
       "9  00040093b2687caa  alignment on this subject and which are contra...      0   \n",
       "\n",
       "   severe_toxic  obscene  threat  insult  identity_hate  \n",
       "0             0        0       0       0              0  \n",
       "1             0        0       0       0              0  \n",
       "2             0        0       0       0              0  \n",
       "3             0        0       0       0              0  \n",
       "4             0        0       0       0              0  \n",
       "5             0        0       0       0              0  \n",
       "6             1        1       0       1              0  \n",
       "7             0        0       0       0              0  \n",
       "8             0        0       0       0              0  \n",
       "9             0        0       0       0              0  "
      ]
     },
     "execution_count": 6,
     "metadata": {},
     "output_type": "execute_result"
    }
   ],
   "source": [
    "train_data.head(10)"
   ]
  },
  {
   "cell_type": "code",
   "execution_count": 7,
   "id": "3bd0e24c",
   "metadata": {
    "execution": {
     "iopub.execute_input": "2022-05-15T19:01:19.222648Z",
     "iopub.status.busy": "2022-05-15T19:01:19.222304Z",
     "iopub.status.idle": "2022-05-15T19:01:19.232092Z",
     "shell.execute_reply": "2022-05-15T19:01:19.230819Z"
    },
    "papermill": {
     "duration": 0.053172,
     "end_time": "2022-05-15T19:01:19.234632",
     "exception": false,
     "start_time": "2022-05-15T19:01:19.181460",
     "status": "completed"
    },
    "tags": []
   },
   "outputs": [
    {
     "name": "stdout",
     "output_type": "stream",
     "text": [
      "Explanation\n",
      "Why the edits made under my username Hardcore Metallica Fan were reverted? They weren't vandalisms, just closure on some GAs after I voted at New York Dolls FAC. And please don't remove the template from the talk page since I'm retired now.89.205.38.27\n",
      "---------------\n",
      "D'aww! He matches this background colour I'm seemingly stuck with. Thanks.  (talk) 21:51, January 11, 2016 (UTC)\n",
      "---------------\n",
      "Hey man, I'm really not trying to edit war. It's just that this guy is constantly removing relevant information and talking to me through edits instead of my talk page. He seems to care more about the formatting than the actual info.\n",
      "---------------\n",
      "\"\n",
      "More\n",
      "I can't make any real suggestions on improvement - I wondered if the section statistics should be later on, or a subsection of \"\"types of accidents\"\"  -I think the references may need tidying so that they are all in the exact same format ie date format etc. I can do that later on, if no-one else does first - if you have any preferences for formatting style on references or want to do it yourself please let me know.\n",
      "\n",
      "There appears to be a backlog on articles for review so I guess there may be a delay until a reviewer turns up. It's listed in the relevant form eg Wikipedia:Good_article_nominations#Transport  \"\n",
      "---------------\n",
      "You, sir, are my hero. Any chance you remember what page that's on?\n",
      "---------------\n",
      "\"\n",
      "\n",
      "Congratulations from me as well, use the tools well.  · talk \"\n",
      "---------------\n",
      "COCKSUCKER BEFORE YOU PISS AROUND ON MY WORK\n",
      "---------------\n",
      "Your vandalism to the Matt Shirvington article has been reverted.  Please don't do it again, or you will be banned.\n",
      "---------------\n",
      "Sorry if the word 'nonsense' was offensive to you. Anyway, I'm not intending to write anything in the article(wow they would jump on me for vandalism), I'm merely requesting that it be more encyclopedic so one can use it for school as a reference. I have been to the selective breeding page but it's almost a stub. It points to 'animal breeding' which is a short messy article that gives you no info. There must be someone around with expertise in eugenics? 93.161.107.169\n",
      "---------------\n",
      "alignment on this subject and which are contrary to those of DuLithgow\n",
      "---------------\n"
     ]
    }
   ],
   "source": [
    "\n",
    "for i in range(10):\n",
    "    print(train_data['comment_text'][i])\n",
    "    print('---------------')"
   ]
  },
  {
   "cell_type": "code",
   "execution_count": 8,
   "id": "0cd1fd3e",
   "metadata": {
    "execution": {
     "iopub.execute_input": "2022-05-15T19:01:19.318730Z",
     "iopub.status.busy": "2022-05-15T19:01:19.318160Z",
     "iopub.status.idle": "2022-05-15T19:01:19.328197Z",
     "shell.execute_reply": "2022-05-15T19:01:19.327406Z"
    },
    "papermill": {
     "duration": 0.05376,
     "end_time": "2022-05-15T19:01:19.330187",
     "exception": false,
     "start_time": "2022-05-15T19:01:19.276427",
     "status": "completed"
    },
    "tags": []
   },
   "outputs": [
    {
     "data": {
      "text/html": [
       "<div>\n",
       "<style scoped>\n",
       "    .dataframe tbody tr th:only-of-type {\n",
       "        vertical-align: middle;\n",
       "    }\n",
       "\n",
       "    .dataframe tbody tr th {\n",
       "        vertical-align: top;\n",
       "    }\n",
       "\n",
       "    .dataframe thead th {\n",
       "        text-align: right;\n",
       "    }\n",
       "</style>\n",
       "<table border=\"1\" class=\"dataframe\">\n",
       "  <thead>\n",
       "    <tr style=\"text-align: right;\">\n",
       "      <th></th>\n",
       "      <th>id</th>\n",
       "      <th>comment_text</th>\n",
       "    </tr>\n",
       "  </thead>\n",
       "  <tbody>\n",
       "    <tr>\n",
       "      <th>0</th>\n",
       "      <td>00001cee341fdb12</td>\n",
       "      <td>Yo bitch Ja Rule is more succesful then you'll...</td>\n",
       "    </tr>\n",
       "    <tr>\n",
       "      <th>1</th>\n",
       "      <td>0000247867823ef7</td>\n",
       "      <td>== From RfC == \\n\\n The title is fine as it is...</td>\n",
       "    </tr>\n",
       "    <tr>\n",
       "      <th>2</th>\n",
       "      <td>00013b17ad220c46</td>\n",
       "      <td>\" \\n\\n == Sources == \\n\\n * Zawe Ashton on Lap...</td>\n",
       "    </tr>\n",
       "    <tr>\n",
       "      <th>3</th>\n",
       "      <td>00017563c3f7919a</td>\n",
       "      <td>:If you have a look back at the source, the in...</td>\n",
       "    </tr>\n",
       "    <tr>\n",
       "      <th>4</th>\n",
       "      <td>00017695ad8997eb</td>\n",
       "      <td>I don't anonymously edit articles at all.</td>\n",
       "    </tr>\n",
       "    <tr>\n",
       "      <th>5</th>\n",
       "      <td>0001ea8717f6de06</td>\n",
       "      <td>Thank you for understanding. I think very high...</td>\n",
       "    </tr>\n",
       "    <tr>\n",
       "      <th>6</th>\n",
       "      <td>00024115d4cbde0f</td>\n",
       "      <td>Please do not add nonsense to Wikipedia. Such ...</td>\n",
       "    </tr>\n",
       "    <tr>\n",
       "      <th>7</th>\n",
       "      <td>000247e83dcc1211</td>\n",
       "      <td>:Dear god this site is horrible.</td>\n",
       "    </tr>\n",
       "    <tr>\n",
       "      <th>8</th>\n",
       "      <td>00025358d4737918</td>\n",
       "      <td>\" \\n Only a fool can believe in such numbers. ...</td>\n",
       "    </tr>\n",
       "    <tr>\n",
       "      <th>9</th>\n",
       "      <td>00026d1092fe71cc</td>\n",
       "      <td>== Double Redirects == \\n\\n When fixing double...</td>\n",
       "    </tr>\n",
       "  </tbody>\n",
       "</table>\n",
       "</div>"
      ],
      "text/plain": [
       "                 id                                       comment_text\n",
       "0  00001cee341fdb12  Yo bitch Ja Rule is more succesful then you'll...\n",
       "1  0000247867823ef7  == From RfC == \\n\\n The title is fine as it is...\n",
       "2  00013b17ad220c46  \" \\n\\n == Sources == \\n\\n * Zawe Ashton on Lap...\n",
       "3  00017563c3f7919a  :If you have a look back at the source, the in...\n",
       "4  00017695ad8997eb          I don't anonymously edit articles at all.\n",
       "5  0001ea8717f6de06  Thank you for understanding. I think very high...\n",
       "6  00024115d4cbde0f  Please do not add nonsense to Wikipedia. Such ...\n",
       "7  000247e83dcc1211                   :Dear god this site is horrible.\n",
       "8  00025358d4737918  \" \\n Only a fool can believe in such numbers. ...\n",
       "9  00026d1092fe71cc  == Double Redirects == \\n\\n When fixing double..."
      ]
     },
     "execution_count": 8,
     "metadata": {},
     "output_type": "execute_result"
    }
   ],
   "source": [
    "\n",
    "test_data.head(10)"
   ]
  },
  {
   "cell_type": "code",
   "execution_count": 9,
   "id": "648f540a",
   "metadata": {
    "execution": {
     "iopub.execute_input": "2022-05-15T19:01:19.414434Z",
     "iopub.status.busy": "2022-05-15T19:01:19.413890Z",
     "iopub.status.idle": "2022-05-15T19:01:19.429677Z",
     "shell.execute_reply": "2022-05-15T19:01:19.428771Z"
    },
    "papermill": {
     "duration": 0.060726,
     "end_time": "2022-05-15T19:01:19.431894",
     "exception": false,
     "start_time": "2022-05-15T19:01:19.371168",
     "status": "completed"
    },
    "tags": []
   },
   "outputs": [],
   "source": [
    "\n",
    "test_label_data = test_label_data.loc[test_label_data['toxic']!=-1]"
   ]
  },
  {
   "cell_type": "code",
   "execution_count": 10,
   "id": "143b116d",
   "metadata": {
    "execution": {
     "iopub.execute_input": "2022-05-15T19:01:19.515804Z",
     "iopub.status.busy": "2022-05-15T19:01:19.515229Z",
     "iopub.status.idle": "2022-05-15T19:01:19.528811Z",
     "shell.execute_reply": "2022-05-15T19:01:19.527984Z"
    },
    "papermill": {
     "duration": 0.058122,
     "end_time": "2022-05-15T19:01:19.530832",
     "exception": false,
     "start_time": "2022-05-15T19:01:19.472710",
     "status": "completed"
    },
    "tags": []
   },
   "outputs": [
    {
     "data": {
      "text/plain": [
       "toxic           0.095189\n",
       "severe_toxic    0.005736\n",
       "obscene         0.057692\n",
       "threat          0.003298\n",
       "insult          0.053565\n",
       "dtype: float64"
      ]
     },
     "execution_count": 10,
     "metadata": {},
     "output_type": "execute_result"
    }
   ],
   "source": [
    "\n",
    "test_label_data.iloc[:,1:-1].sum(axis=0) / test_label_data.shape[0]"
   ]
  },
  {
   "cell_type": "code",
   "execution_count": 11,
   "id": "789013f3",
   "metadata": {
    "execution": {
     "iopub.execute_input": "2022-05-15T19:01:19.615460Z",
     "iopub.status.busy": "2022-05-15T19:01:19.614893Z",
     "iopub.status.idle": "2022-05-15T19:01:19.745021Z",
     "shell.execute_reply": "2022-05-15T19:01:19.744249Z"
    },
    "papermill": {
     "duration": 0.174333,
     "end_time": "2022-05-15T19:01:19.746968",
     "exception": false,
     "start_time": "2022-05-15T19:01:19.572635",
     "status": "completed"
    },
    "tags": []
   },
   "outputs": [
    {
     "data": {
      "text/html": [
       "<div>\n",
       "<style scoped>\n",
       "    .dataframe tbody tr th:only-of-type {\n",
       "        vertical-align: middle;\n",
       "    }\n",
       "\n",
       "    .dataframe tbody tr th {\n",
       "        vertical-align: top;\n",
       "    }\n",
       "\n",
       "    .dataframe thead th {\n",
       "        text-align: right;\n",
       "    }\n",
       "</style>\n",
       "<table border=\"1\" class=\"dataframe\">\n",
       "  <thead>\n",
       "    <tr style=\"text-align: right;\">\n",
       "      <th></th>\n",
       "      <th>id</th>\n",
       "      <th>toxic</th>\n",
       "      <th>severe_toxic</th>\n",
       "      <th>obscene</th>\n",
       "      <th>threat</th>\n",
       "      <th>insult</th>\n",
       "      <th>identity_hate</th>\n",
       "      <th>comment_text</th>\n",
       "    </tr>\n",
       "  </thead>\n",
       "  <tbody>\n",
       "    <tr>\n",
       "      <th>0</th>\n",
       "      <td>0001ea8717f6de06</td>\n",
       "      <td>0</td>\n",
       "      <td>0</td>\n",
       "      <td>0</td>\n",
       "      <td>0</td>\n",
       "      <td>0</td>\n",
       "      <td>0</td>\n",
       "      <td>Thank you for understanding. I think very high...</td>\n",
       "    </tr>\n",
       "    <tr>\n",
       "      <th>1</th>\n",
       "      <td>000247e83dcc1211</td>\n",
       "      <td>0</td>\n",
       "      <td>0</td>\n",
       "      <td>0</td>\n",
       "      <td>0</td>\n",
       "      <td>0</td>\n",
       "      <td>0</td>\n",
       "      <td>:Dear god this site is horrible.</td>\n",
       "    </tr>\n",
       "    <tr>\n",
       "      <th>2</th>\n",
       "      <td>0002f87b16116a7f</td>\n",
       "      <td>0</td>\n",
       "      <td>0</td>\n",
       "      <td>0</td>\n",
       "      <td>0</td>\n",
       "      <td>0</td>\n",
       "      <td>0</td>\n",
       "      <td>\"::: Somebody will invariably try to add Relig...</td>\n",
       "    </tr>\n",
       "    <tr>\n",
       "      <th>3</th>\n",
       "      <td>0003e1cccfd5a40a</td>\n",
       "      <td>0</td>\n",
       "      <td>0</td>\n",
       "      <td>0</td>\n",
       "      <td>0</td>\n",
       "      <td>0</td>\n",
       "      <td>0</td>\n",
       "      <td>\" \\n\\n It says it right there that it IS a typ...</td>\n",
       "    </tr>\n",
       "    <tr>\n",
       "      <th>4</th>\n",
       "      <td>00059ace3e3e9a53</td>\n",
       "      <td>0</td>\n",
       "      <td>0</td>\n",
       "      <td>0</td>\n",
       "      <td>0</td>\n",
       "      <td>0</td>\n",
       "      <td>0</td>\n",
       "      <td>\" \\n\\n == Before adding a new product to the l...</td>\n",
       "    </tr>\n",
       "    <tr>\n",
       "      <th>5</th>\n",
       "      <td>000663aff0fffc80</td>\n",
       "      <td>0</td>\n",
       "      <td>0</td>\n",
       "      <td>0</td>\n",
       "      <td>0</td>\n",
       "      <td>0</td>\n",
       "      <td>0</td>\n",
       "      <td>this other one from 1897</td>\n",
       "    </tr>\n",
       "    <tr>\n",
       "      <th>6</th>\n",
       "      <td>000689dd34e20979</td>\n",
       "      <td>0</td>\n",
       "      <td>0</td>\n",
       "      <td>0</td>\n",
       "      <td>0</td>\n",
       "      <td>0</td>\n",
       "      <td>0</td>\n",
       "      <td>== Reason for banning throwing == \\n\\n This ar...</td>\n",
       "    </tr>\n",
       "    <tr>\n",
       "      <th>7</th>\n",
       "      <td>000844b52dee5f3f</td>\n",
       "      <td>0</td>\n",
       "      <td>0</td>\n",
       "      <td>0</td>\n",
       "      <td>0</td>\n",
       "      <td>0</td>\n",
       "      <td>0</td>\n",
       "      <td>|blocked]] from editing Wikipedia.   |</td>\n",
       "    </tr>\n",
       "    <tr>\n",
       "      <th>8</th>\n",
       "      <td>00091c35fa9d0465</td>\n",
       "      <td>1</td>\n",
       "      <td>0</td>\n",
       "      <td>0</td>\n",
       "      <td>0</td>\n",
       "      <td>0</td>\n",
       "      <td>0</td>\n",
       "      <td>== Arabs are committing genocide in Iraq, but ...</td>\n",
       "    </tr>\n",
       "    <tr>\n",
       "      <th>9</th>\n",
       "      <td>000968ce11f5ee34</td>\n",
       "      <td>0</td>\n",
       "      <td>0</td>\n",
       "      <td>0</td>\n",
       "      <td>0</td>\n",
       "      <td>0</td>\n",
       "      <td>0</td>\n",
       "      <td>Please stop. If you continue to vandalize Wiki...</td>\n",
       "    </tr>\n",
       "  </tbody>\n",
       "</table>\n",
       "</div>"
      ],
      "text/plain": [
       "                 id  toxic  severe_toxic  obscene  threat  insult  \\\n",
       "0  0001ea8717f6de06      0             0        0       0       0   \n",
       "1  000247e83dcc1211      0             0        0       0       0   \n",
       "2  0002f87b16116a7f      0             0        0       0       0   \n",
       "3  0003e1cccfd5a40a      0             0        0       0       0   \n",
       "4  00059ace3e3e9a53      0             0        0       0       0   \n",
       "5  000663aff0fffc80      0             0        0       0       0   \n",
       "6  000689dd34e20979      0             0        0       0       0   \n",
       "7  000844b52dee5f3f      0             0        0       0       0   \n",
       "8  00091c35fa9d0465      1             0        0       0       0   \n",
       "9  000968ce11f5ee34      0             0        0       0       0   \n",
       "\n",
       "   identity_hate                                       comment_text  \n",
       "0              0  Thank you for understanding. I think very high...  \n",
       "1              0                   :Dear god this site is horrible.  \n",
       "2              0  \"::: Somebody will invariably try to add Relig...  \n",
       "3              0  \" \\n\\n It says it right there that it IS a typ...  \n",
       "4              0  \" \\n\\n == Before adding a new product to the l...  \n",
       "5              0                           this other one from 1897  \n",
       "6              0  == Reason for banning throwing == \\n\\n This ar...  \n",
       "7              0             |blocked]] from editing Wikipedia.   |  \n",
       "8              0  == Arabs are committing genocide in Iraq, but ...  \n",
       "9              0  Please stop. If you continue to vandalize Wiki...  "
      ]
     },
     "execution_count": 11,
     "metadata": {},
     "output_type": "execute_result"
    }
   ],
   "source": [
    "\n",
    "\n",
    "test = test_label_data.merge(test_data, on='id', how=\"inner\")\n",
    "test.head(10)\n"
   ]
  },
  {
   "cell_type": "markdown",
   "id": "e5eacf01",
   "metadata": {
    "papermill": {
     "duration": 0.043678,
     "end_time": "2022-05-15T19:01:19.832522",
     "exception": false,
     "start_time": "2022-05-15T19:01:19.788844",
     "status": "completed"
    },
    "tags": []
   },
   "source": [
    "# Cleaning the texts/Comments"
   ]
  },
  {
   "cell_type": "code",
   "execution_count": 12,
   "id": "ce82ab07",
   "metadata": {
    "execution": {
     "iopub.execute_input": "2022-05-15T19:01:19.919606Z",
     "iopub.status.busy": "2022-05-15T19:01:19.918722Z",
     "iopub.status.idle": "2022-05-15T19:01:19.925581Z",
     "shell.execute_reply": "2022-05-15T19:01:19.924902Z"
    },
    "papermill": {
     "duration": 0.052275,
     "end_time": "2022-05-15T19:01:19.927599",
     "exception": false,
     "start_time": "2022-05-15T19:01:19.875324",
     "status": "completed"
    },
    "tags": []
   },
   "outputs": [],
   "source": [
    "#preprocesses a text\n",
    "\n",
    "def preprocess(corpus):\n",
    "    \n",
    "    '''\n",
    "    From a string, make text lowercase, remove hyperlinks, punctuation, word containing numbers, stopwords.\n",
    "    Input : a list of strings\n",
    "    Output : a list of tokens stored in a generator (yield)\n",
    "    '''\n",
    "\n",
    "    for text in corpus:\n",
    "\n",
    "        text = text.lower()                                               # Lowercase\n",
    "        text = re.sub(r'https?://[^\\s\\n\\r]+', '', text)                   # Remove links\n",
    "        text = re.sub('[%s]' % re.escape(string.punctuation), '', text)   # Remove punctuation\n",
    "        text = re.sub('\\w*\\d\\w*', '', text)                               # Remove words containing numbers\n",
    "    \n",
    "        yield ' '.join([word for word in text.split(' ') if word not in stopwords_english]) # Return a generator \n"
   ]
  },
  {
   "cell_type": "code",
   "execution_count": 13,
   "id": "309f7686",
   "metadata": {
    "execution": {
     "iopub.execute_input": "2022-05-15T19:01:20.016461Z",
     "iopub.status.busy": "2022-05-15T19:01:20.015699Z",
     "iopub.status.idle": "2022-05-15T19:01:58.707586Z",
     "shell.execute_reply": "2022-05-15T19:01:58.706736Z"
    },
    "papermill": {
     "duration": 38.782283,
     "end_time": "2022-05-15T19:01:58.753428",
     "exception": false,
     "start_time": "2022-05-15T19:01:19.971145",
     "status": "completed"
    },
    "tags": []
   },
   "outputs": [
    {
     "name": "stdout",
     "output_type": "stream",
     "text": [
      "CPU times: user 38.6 s, sys: 68.2 ms, total: 38.7 s\n",
      "Wall time: 38.7 s\n"
     ]
    }
   ],
   "source": [
    "%%time\n",
    "\n",
    "clean_comments = list(preprocess(train_data['comment_text']))"
   ]
  },
  {
   "cell_type": "code",
   "execution_count": 14,
   "id": "b6f77bbf",
   "metadata": {
    "execution": {
     "iopub.execute_input": "2022-05-15T19:01:58.842134Z",
     "iopub.status.busy": "2022-05-15T19:01:58.841831Z",
     "iopub.status.idle": "2022-05-15T19:01:58.849850Z",
     "shell.execute_reply": "2022-05-15T19:01:58.848725Z"
    },
    "papermill": {
     "duration": 0.054723,
     "end_time": "2022-05-15T19:01:58.851998",
     "exception": false,
     "start_time": "2022-05-15T19:01:58.797275",
     "status": "completed"
    },
    "tags": []
   },
   "outputs": [
    {
     "name": "stdout",
     "output_type": "stream",
     "text": [
      "explanation\n",
      "why edits made username hardcore metallica fan reverted werent vandalisms closure gas voted new york dolls fac please dont remove template talk page since im retired \n",
      "------------\n",
      "daww matches background colour im seemingly stuck thanks  talk  january   utc\n",
      "------------\n",
      "hey man im really trying edit war guy constantly removing relevant information talking edits instead talk page seems care formatting actual info\n",
      "------------\n",
      "\n",
      "more\n",
      "i cant make real suggestions improvement  wondered section statistics later subsection types accidents  think references may need tidying exact format ie date format etc later noone else first  preferences formatting style references want please let know\n",
      "\n",
      "there appears backlog articles review guess may delay reviewer turns listed relevant form eg wikipediagoodarticlenominationstransport  \n",
      "------------\n",
      "sir hero chance remember page thats\n",
      "------------\n",
      "\n",
      "\n",
      "congratulations well use tools well  · talk \n",
      "------------\n",
      "cocksucker piss around work\n",
      "------------\n",
      "vandalism matt shirvington article reverted  please dont banned\n",
      "------------\n",
      "sorry word nonsense offensive anyway im intending write anything articlewow would jump vandalism im merely requesting encyclopedic one use school reference selective breeding page almost stub points animal breeding short messy article gives info must someone around expertise eugenics \n",
      "------------\n",
      "alignment subject contrary dulithgow\n",
      "------------\n"
     ]
    }
   ],
   "source": [
    "\n",
    "for i in range(10):\n",
    "    print(clean_comments[i])\n",
    "    print('------------')\n",
    "\n"
   ]
  },
  {
   "cell_type": "code",
   "execution_count": 15,
   "id": "a85d62f7",
   "metadata": {
    "execution": {
     "iopub.execute_input": "2022-05-15T19:01:58.942257Z",
     "iopub.status.busy": "2022-05-15T19:01:58.941420Z",
     "iopub.status.idle": "2022-05-15T19:02:14.191569Z",
     "shell.execute_reply": "2022-05-15T19:02:14.190406Z"
    },
    "papermill": {
     "duration": 15.298124,
     "end_time": "2022-05-15T19:02:14.194519",
     "exception": false,
     "start_time": "2022-05-15T19:01:58.896395",
     "status": "completed"
    },
    "tags": []
   },
   "outputs": [
    {
     "name": "stdout",
     "output_type": "stream",
     "text": [
      "CPU times: user 15.2 s, sys: 27.4 ms, total: 15.2 s\n",
      "Wall time: 15.2 s\n"
     ]
    }
   ],
   "source": [
    "%%time\n",
    "# for the test set\n",
    "test_clean_comments = list(preprocess(test[\"comment_text\"]))"
   ]
  },
  {
   "cell_type": "markdown",
   "id": "42ca8857",
   "metadata": {
    "papermill": {
     "duration": 0.043481,
     "end_time": "2022-05-15T19:02:14.282091",
     "exception": false,
     "start_time": "2022-05-15T19:02:14.238610",
     "status": "completed"
    },
    "tags": []
   },
   "source": [
    "# Feature Generation / Word Embeddings"
   ]
  },
  {
   "cell_type": "markdown",
   "id": "8dac57ca",
   "metadata": {
    "papermill": {
     "duration": 0.042701,
     "end_time": "2022-05-15T19:02:14.368484",
     "exception": false,
     "start_time": "2022-05-15T19:02:14.325783",
     "status": "completed"
    },
    "tags": []
   },
   "source": [
    "1) BOW (Bag of words) --> BOW method calculates the frequency of a word for each document, based on a Vocabulary."
   ]
  },
  {
   "cell_type": "code",
   "execution_count": 16,
   "id": "ec532d05",
   "metadata": {
    "execution": {
     "iopub.execute_input": "2022-05-15T19:02:14.457897Z",
     "iopub.status.busy": "2022-05-15T19:02:14.457152Z",
     "iopub.status.idle": "2022-05-15T19:02:25.057253Z",
     "shell.execute_reply": "2022-05-15T19:02:25.056360Z"
    },
    "papermill": {
     "duration": 10.647654,
     "end_time": "2022-05-15T19:02:25.059883",
     "exception": false,
     "start_time": "2022-05-15T19:02:14.412229",
     "status": "completed"
    },
    "tags": []
   },
   "outputs": [
    {
     "name": "stdout",
     "output_type": "stream",
     "text": [
      "CPU times: user 10.4 s, sys: 157 ms, total: 10.6 s\n",
      "Wall time: 10.6 s\n"
     ]
    }
   ],
   "source": [
    "%%time\n",
    "\n",
    "# Bag-of-words\n",
    "vectorizer = CountVectorizer(min_df=3,max_df=0.9) #Filter words that are note present at least in min_df documents & no more that 90% of all documents\n",
    "bow = vectorizer.fit_transform(clean_comments) #return a document-term matrix (n_samples,n_features)\n",
    "bow_test = vectorizer.transform(test_clean_comments) # We do the same for test set, we just transform to have the same number of words"
   ]
  },
  {
   "cell_type": "code",
   "execution_count": 17,
   "id": "1e40d9e8",
   "metadata": {
    "execution": {
     "iopub.execute_input": "2022-05-15T19:02:25.157019Z",
     "iopub.status.busy": "2022-05-15T19:02:25.156310Z",
     "iopub.status.idle": "2022-05-15T19:02:25.161927Z",
     "shell.execute_reply": "2022-05-15T19:02:25.161116Z"
    },
    "papermill": {
     "duration": 0.057091,
     "end_time": "2022-05-15T19:02:25.164237",
     "exception": false,
     "start_time": "2022-05-15T19:02:25.107146",
     "status": "completed"
    },
    "tags": []
   },
   "outputs": [
    {
     "data": {
      "text/plain": [
       "((159571, 52731), (63978, 52731))"
      ]
     },
     "execution_count": 17,
     "metadata": {},
     "output_type": "execute_result"
    }
   ],
   "source": [
    "bow.shape , bow_test.shape"
   ]
  },
  {
   "cell_type": "code",
   "execution_count": 18,
   "id": "01b58c1f",
   "metadata": {
    "execution": {
     "iopub.execute_input": "2022-05-15T19:02:25.254411Z",
     "iopub.status.busy": "2022-05-15T19:02:25.253888Z",
     "iopub.status.idle": "2022-05-15T19:02:25.481109Z",
     "shell.execute_reply": "2022-05-15T19:02:25.480252Z"
    },
    "papermill": {
     "duration": 0.275284,
     "end_time": "2022-05-15T19:02:25.484209",
     "exception": false,
     "start_time": "2022-05-15T19:02:25.208925",
     "status": "completed"
    },
    "tags": []
   },
   "outputs": [
    {
     "name": "stdout",
     "output_type": "stream",
     "text": [
      "['aa' 'aaa' 'aaand' 'aac' 'aachen' 'aah' 'aaliyah' 'aamir' 'aan' 'aand'\n",
      " 'aang' 'aap' 'aaps' 'aar' 'aardvark' 'aarem' 'aaron' 'aarons' 'aas'\n",
      " 'aatalk' 'aau' 'aave' 'ab' 'aba' 'aback' 'abad' 'abaddon' 'abandon'\n",
      " 'abandoned' 'abandoning']\n",
      "------------\n",
      "['abolish' 'abolished' 'abolishing' 'abolition' 'abolitionist'\n",
      " 'abolitionists' 'abomb' 'abominable' 'abomination' 'abominations'\n",
      " 'aboriginal' 'aboriginals' 'aborigine' 'aborigines' 'abort' 'aborted'\n",
      " 'abortion' 'abortions' 'abot' 'abotu' 'abou' 'aboumekhael' 'abound'\n",
      " 'abounds' 'abour' 'about' 'aboutcom' 'abouth' 'abouti' 'above']\n",
      "------------\n",
      "['agreement' 'agreements' 'agrees' 'agress' 'agressing' 'agression'\n",
      " 'agressive' 'agressively' 'agressor' 'agricultural' 'agriculture'\n",
      " 'agriculturists' 'agrizoophobia' 'aground' 'ags' 'aguilera' 'aguri' 'agw'\n",
      " 'ah' 'aha' 'ahaha' 'ahahahahaha' 'aharon' 'ahd' 'ahead' 'ahem' 'ahh'\n",
      " 'ahhh' 'ahhhh' 'ahhrelief']\n",
      "------------\n",
      "['copright' 'coproduced' 'coproducer' 'cops' 'coptic' 'copts' 'copula'\n",
      " 'copulation' 'copy' 'copyandpaste' 'copyandpasting' 'copycat' 'copyedit'\n",
      " 'copyedited' 'copyediting' 'copyeditor' 'copyeditors' 'copyedits'\n",
      " 'copying' 'copyjpg' 'copyleft' 'copypaste' 'copypasted' 'copypasting'\n",
      " 'copyright' 'copyrightable' 'copyrighted' 'copyrightfree'\n",
      " 'copyrightholder' 'copyrightholders']\n"
     ]
    }
   ],
   "source": [
    "# Let's take a look at the features / vocabulary\n",
    "print(vectorizer.get_feature_names_out()[:30])\n",
    "print('------------')\n",
    "print(vectorizer.get_feature_names_out()[100:130])\n",
    "print('------------')\n",
    "print(vectorizer.get_feature_names_out()[1000:1030])\n",
    "print('------------')\n",
    "print(vectorizer.get_feature_names_out()[10000:10030])"
   ]
  },
  {
   "cell_type": "markdown",
   "id": "bf8730a9",
   "metadata": {
    "papermill": {
     "duration": 0.043712,
     "end_time": "2022-05-15T19:02:25.573701",
     "exception": false,
     "start_time": "2022-05-15T19:02:25.529989",
     "status": "completed"
    },
    "tags": []
   },
   "source": [
    "2) TFIDF(term frequency Inverse Document frequency) --> its a measure of originality of a word by comparing number of times a word occurs in a document with the number of documents word appears in ."
   ]
  },
  {
   "cell_type": "code",
   "execution_count": 19,
   "id": "a89b44de",
   "metadata": {
    "execution": {
     "iopub.execute_input": "2022-05-15T19:02:25.664420Z",
     "iopub.status.busy": "2022-05-15T19:02:25.663923Z",
     "iopub.status.idle": "2022-05-15T19:02:37.070501Z",
     "shell.execute_reply": "2022-05-15T19:02:37.069488Z"
    },
    "papermill": {
     "duration": 11.455132,
     "end_time": "2022-05-15T19:02:37.072679",
     "exception": false,
     "start_time": "2022-05-15T19:02:25.617547",
     "status": "completed"
    },
    "tags": []
   },
   "outputs": [
    {
     "name": "stdout",
     "output_type": "stream",
     "text": [
      "['aa' 'aaa' 'aaaa' 'aaaaaaaa'\n",
      " 'aaaaaaaaaaaaaaaaaaaaaaaaaaaaaaaaaaaaaaaaaaaaaaaaaaaaaaaaaaaaaaaaaaaaaany'\n",
      " 'aaaaaaaaaah' 'aaaaaaaaaahhhhhhhhhhhhhh'\n",
      " 'aaaaaaaahhhhhhhhhhhhhhhhhhhhhhhhhhhhhhhhh'\n",
      " 'aaaaaaahhhhhhhhhhhhhhhhhhhhhhhh' 'aaaaaaw' 'aaaaah' 'aaaaai' 'aaaaaups'\n",
      " 'aaaah' 'aaaannnnyyyywwwwhhhheeeerrrreeee' 'aaaaso' 'aaaawwww' 'aaages'\n",
      " 'aaaghh' 'aaah' 'aaahhh' 'aaahs' 'aaai' 'aaajade' 'aaand' 'aaarated'\n",
      " 'aaarrrgggh' 'aaaww' 'aaba' 'aabove']\n"
     ]
    }
   ],
   "source": [
    "# Word embeddings\n",
    "tfidf_vec = TfidfVectorizer(min_df=1,max_df=0.9)\n",
    "tfidf = tfidf_vec.fit_transform(clean_comments)\n",
    "tfidf_test = tfidf_vec.transform(test_clean_comments)\n",
    "print(tfidf_vec.get_feature_names_out()[:30])"
   ]
  },
  {
   "cell_type": "markdown",
   "id": "783744ac",
   "metadata": {
    "papermill": {
     "duration": 0.045134,
     "end_time": "2022-05-15T19:02:37.163217",
     "exception": false,
     "start_time": "2022-05-15T19:02:37.118083",
     "status": "completed"
    },
    "tags": []
   },
   "source": [
    "# Models\n",
    "****Train & Test preparation****"
   ]
  },
  {
   "cell_type": "code",
   "execution_count": 20,
   "id": "8e563c8e",
   "metadata": {
    "execution": {
     "iopub.execute_input": "2022-05-15T19:02:37.254507Z",
     "iopub.status.busy": "2022-05-15T19:02:37.254189Z",
     "iopub.status.idle": "2022-05-15T19:02:37.267604Z",
     "shell.execute_reply": "2022-05-15T19:02:37.266810Z"
    },
    "papermill": {
     "duration": 0.061451,
     "end_time": "2022-05-15T19:02:37.269525",
     "exception": false,
     "start_time": "2022-05-15T19:02:37.208074",
     "status": "completed"
    },
    "tags": []
   },
   "outputs": [
    {
     "data": {
      "text/html": [
       "<div>\n",
       "<style scoped>\n",
       "    .dataframe tbody tr th:only-of-type {\n",
       "        vertical-align: middle;\n",
       "    }\n",
       "\n",
       "    .dataframe tbody tr th {\n",
       "        vertical-align: top;\n",
       "    }\n",
       "\n",
       "    .dataframe thead th {\n",
       "        text-align: right;\n",
       "    }\n",
       "</style>\n",
       "<table border=\"1\" class=\"dataframe\">\n",
       "  <thead>\n",
       "    <tr style=\"text-align: right;\">\n",
       "      <th></th>\n",
       "      <th>toxic</th>\n",
       "      <th>severe_toxic</th>\n",
       "      <th>obscene</th>\n",
       "      <th>threat</th>\n",
       "      <th>insult</th>\n",
       "      <th>identity_hate</th>\n",
       "    </tr>\n",
       "  </thead>\n",
       "  <tbody>\n",
       "    <tr>\n",
       "      <th>0</th>\n",
       "      <td>0</td>\n",
       "      <td>0</td>\n",
       "      <td>0</td>\n",
       "      <td>0</td>\n",
       "      <td>0</td>\n",
       "      <td>0</td>\n",
       "    </tr>\n",
       "    <tr>\n",
       "      <th>1</th>\n",
       "      <td>0</td>\n",
       "      <td>0</td>\n",
       "      <td>0</td>\n",
       "      <td>0</td>\n",
       "      <td>0</td>\n",
       "      <td>0</td>\n",
       "    </tr>\n",
       "    <tr>\n",
       "      <th>2</th>\n",
       "      <td>0</td>\n",
       "      <td>0</td>\n",
       "      <td>0</td>\n",
       "      <td>0</td>\n",
       "      <td>0</td>\n",
       "      <td>0</td>\n",
       "    </tr>\n",
       "    <tr>\n",
       "      <th>3</th>\n",
       "      <td>0</td>\n",
       "      <td>0</td>\n",
       "      <td>0</td>\n",
       "      <td>0</td>\n",
       "      <td>0</td>\n",
       "      <td>0</td>\n",
       "    </tr>\n",
       "    <tr>\n",
       "      <th>4</th>\n",
       "      <td>0</td>\n",
       "      <td>0</td>\n",
       "      <td>0</td>\n",
       "      <td>0</td>\n",
       "      <td>0</td>\n",
       "      <td>0</td>\n",
       "    </tr>\n",
       "  </tbody>\n",
       "</table>\n",
       "</div>"
      ],
      "text/plain": [
       "   toxic  severe_toxic  obscene  threat  insult  identity_hate\n",
       "0      0             0        0       0       0              0\n",
       "1      0             0        0       0       0              0\n",
       "2      0             0        0       0       0              0\n",
       "3      0             0        0       0       0              0\n",
       "4      0             0        0       0       0              0"
      ]
     },
     "execution_count": 20,
     "metadata": {},
     "output_type": "execute_result"
    }
   ],
   "source": [
    "# Let's define target labels\n",
    "target = train_data[['toxic', 'severe_toxic', 'obscene', 'threat','insult', 'identity_hate']]\n",
    "# target = np.array(target) #transform dataframe into array\n",
    "target.head()\n"
   ]
  },
  {
   "cell_type": "code",
   "execution_count": 21,
   "id": "440093dd",
   "metadata": {
    "execution": {
     "iopub.execute_input": "2022-05-15T19:02:37.362849Z",
     "iopub.status.busy": "2022-05-15T19:02:37.362233Z",
     "iopub.status.idle": "2022-05-15T19:02:37.371536Z",
     "shell.execute_reply": "2022-05-15T19:02:37.370739Z"
    },
    "papermill": {
     "duration": 0.057742,
     "end_time": "2022-05-15T19:02:37.373598",
     "exception": false,
     "start_time": "2022-05-15T19:02:37.315856",
     "status": "completed"
    },
    "tags": []
   },
   "outputs": [
    {
     "data": {
      "text/plain": [
       "toxic            0.095844\n",
       "severe_toxic     0.009996\n",
       "obscene          0.052948\n",
       "threat           0.002996\n",
       "insult           0.049364\n",
       "identity_hate    0.008805\n",
       "dtype: float64"
      ]
     },
     "execution_count": 21,
     "metadata": {},
     "output_type": "execute_result"
    }
   ],
   "source": [
    "target.sum(axis=0) / target.shape[0]"
   ]
  },
  {
   "cell_type": "code",
   "execution_count": 22,
   "id": "85f091fd",
   "metadata": {
    "execution": {
     "iopub.execute_input": "2022-05-15T19:02:37.467511Z",
     "iopub.status.busy": "2022-05-15T19:02:37.467220Z",
     "iopub.status.idle": "2022-05-15T19:02:37.483258Z",
     "shell.execute_reply": "2022-05-15T19:02:37.482665Z"
    },
    "papermill": {
     "duration": 0.065703,
     "end_time": "2022-05-15T19:02:37.485222",
     "exception": false,
     "start_time": "2022-05-15T19:02:37.419519",
     "status": "completed"
    },
    "tags": []
   },
   "outputs": [
    {
     "data": {
      "text/plain": [
       "toxic            0.095189\n",
       "severe_toxic     0.005736\n",
       "obscene          0.057692\n",
       "threat           0.003298\n",
       "insult           0.053565\n",
       "identity_hate    0.011129\n",
       "dtype: float64"
      ]
     },
     "execution_count": 22,
     "metadata": {},
     "output_type": "execute_result"
    }
   ],
   "source": [
    "keys = ['toxic', 'severe_toxic', 'obscene', 'threat','insult', 'identity_hate']\n",
    "test[keys].sum(axis=0) /test.shape[0]"
   ]
  },
  {
   "cell_type": "markdown",
   "id": "f54a90af",
   "metadata": {
    "papermill": {
     "duration": 0.046389,
     "end_time": "2022-05-15T19:02:37.578272",
     "exception": false,
     "start_time": "2022-05-15T19:02:37.531883",
     "status": "completed"
    },
    "tags": []
   },
   "source": [
    "# Validating Model \n",
    "\n",
    "Train and validate the model"
   ]
  },
  {
   "cell_type": "markdown",
   "id": "3b96b2e2",
   "metadata": {
    "papermill": {
     "duration": 0.046041,
     "end_time": "2022-05-15T19:02:37.670780",
     "exception": false,
     "start_time": "2022-05-15T19:02:37.624739",
     "status": "completed"
    },
    "tags": []
   },
   "source": [
    "Naive Bayes model Without maximum likelyhood "
   ]
  },
  {
   "cell_type": "code",
   "execution_count": 23,
   "id": "a706da5e",
   "metadata": {
    "execution": {
     "iopub.execute_input": "2022-05-15T19:02:37.765433Z",
     "iopub.status.busy": "2022-05-15T19:02:37.765117Z",
     "iopub.status.idle": "2022-05-15T19:02:38.629850Z",
     "shell.execute_reply": "2022-05-15T19:02:38.628598Z"
    },
    "papermill": {
     "duration": 0.914954,
     "end_time": "2022-05-15T19:02:38.632083",
     "exception": false,
     "start_time": "2022-05-15T19:02:37.717129",
     "status": "completed"
    },
    "tags": []
   },
   "outputs": [
    {
     "name": "stdout",
     "output_type": "stream",
     "text": [
      "0.826196564897189\n",
      "0.7158978069566581\n",
      "0.8218051327921571\n",
      "0.7340558157644601\n",
      "0.809764046584916\n",
      "0.7838186446360561\n",
      "CV score using Naive Bayes - 0.7819230019385727\n"
     ]
    }
   ],
   "source": [
    "nb_accuracy = {}\n",
    "for i,j in enumerate(target.columns):\n",
    "   \n",
    "    nb = MultinomialNB()\n",
    "\n",
    "    cv_score = np.mean(cross_val_score(nb, tfidf_test,\n",
    "                                       test[j], cv=3, scoring='roc_auc'))\n",
    "    nb_accuracy[j] = cv_score\n",
    "    print(cv_score)\n",
    "nb_accuracy['mdl_accuracy'] = np.mean(list(nb_accuracy.values()))\n",
    "print('CV score using Naive Bayes - {}'.format(np.mean(list(nb_accuracy.values()))))\n",
    "nb_accuracy = pd.Series(nb_accuracy)"
   ]
  },
  {
   "cell_type": "markdown",
   "id": "f1c552f6",
   "metadata": {
    "papermill": {
     "duration": 0.0476,
     "end_time": "2022-05-15T19:02:38.726889",
     "exception": false,
     "start_time": "2022-05-15T19:02:38.679289",
     "status": "completed"
    },
    "tags": []
   },
   "source": [
    "NB-Logistic Regression model "
   ]
  },
  {
   "cell_type": "code",
   "execution_count": 24,
   "id": "4f8abc24",
   "metadata": {
    "execution": {
     "iopub.execute_input": "2022-05-15T19:02:38.823735Z",
     "iopub.status.busy": "2022-05-15T19:02:38.823283Z",
     "iopub.status.idle": "2022-05-15T19:02:38.828041Z",
     "shell.execute_reply": "2022-05-15T19:02:38.827456Z"
    },
    "papermill": {
     "duration": 0.056041,
     "end_time": "2022-05-15T19:02:38.829796",
     "exception": false,
     "start_time": "2022-05-15T19:02:38.773755",
     "status": "completed"
    },
    "tags": []
   },
   "outputs": [],
   "source": [
    "def probNB(bow,target,cat):\n",
    "\n",
    "    '''\n",
    "    Naive Bayes probability for each word\n",
    "    Inputs :\n",
    "    bow : bag of words (with doc in rows and words in columns)\n",
    "    target : classification vector (filled with 1 and 0)\n",
    "    cat : 1 or 0, in target\n",
    "    Output : \n",
    "    Vector of Naive Bayes probabilities with smoothing (n_words,1)\n",
    "    '''\n",
    "\n",
    "    p = np.array(bow[target==cat].sum(axis=0))\n",
    "\n",
    "    return np.transpose((p+1) / (p.sum() + bow.shape[1]))"
   ]
  },
  {
   "cell_type": "code",
   "execution_count": 25,
   "id": "c421dfa7",
   "metadata": {
    "execution": {
     "iopub.execute_input": "2022-05-15T19:02:38.928457Z",
     "iopub.status.busy": "2022-05-15T19:02:38.928155Z",
     "iopub.status.idle": "2022-05-15T19:02:38.933048Z",
     "shell.execute_reply": "2022-05-15T19:02:38.932386Z"
    },
    "papermill": {
     "duration": 0.056156,
     "end_time": "2022-05-15T19:02:38.934984",
     "exception": false,
     "start_time": "2022-05-15T19:02:38.878828",
     "status": "completed"
    },
    "tags": []
   },
   "outputs": [],
   "source": [
    "def get_model(bow,target):\n",
    "\n",
    "    '''\n",
    "    Function that return the log likelihood of a document\n",
    "    Inputs :\n",
    "    bow : bag of words (n_doc,n_words)\n",
    "    target : classification of comments (n_doc,1)\n",
    "    Output : \n",
    "    Return a vector of Log Likelihood for each comment (Naïve Bayes) (n_doc,1)\n",
    "    '''\n",
    "\n",
    "    log = np.log(probNB(bow,target,1)/probNB(bow,target,0))\n",
    "    m = bow.dot(log)\n",
    "    model = LogisticRegression().fit(m,target)\n",
    "    return model , log"
   ]
  },
  {
   "cell_type": "code",
   "execution_count": 26,
   "id": "27a1b4ff",
   "metadata": {
    "execution": {
     "iopub.execute_input": "2022-05-15T19:02:39.033214Z",
     "iopub.status.busy": "2022-05-15T19:02:39.032786Z",
     "iopub.status.idle": "2022-05-15T19:02:42.514487Z",
     "shell.execute_reply": "2022-05-15T19:02:42.513549Z"
    },
    "papermill": {
     "duration": 3.534607,
     "end_time": "2022-05-15T19:02:42.518143",
     "exception": false,
     "start_time": "2022-05-15T19:02:38.983536",
     "status": "completed"
    },
    "tags": []
   },
   "outputs": [
    {
     "name": "stdout",
     "output_type": "stream",
     "text": [
      "fit toxic\n",
      "0.8841105986555999\n",
      "fit severe_toxic\n",
      "0.8117292729349739\n",
      "fit obscene\n",
      "0.8735658682632993\n",
      "fit threat\n",
      "0.7822930649113515\n",
      "fit insult\n",
      "0.8569351816491234\n",
      "fit identity_hate\n",
      "0.8182679639339181\n",
      "CV score using Naive Bayes - 0.8378970640325882\n"
     ]
    }
   ],
   "source": [
    "df_classification = pd.DataFrame() #We store probabilities into a Dataframe\n",
    "df_classification['Comments'] = test['comment_text']\n",
    "classification = pd.Series(index=['identity_hate','insult','obscene','severe_toxic','threat','toxic'],dtype=int)\n",
    "nb_log_accuracy = {}\n",
    "for i,j in enumerate(target.columns):\n",
    "    print('fit', j)\n",
    "    model,log = get_model(tfidf,target[j])\n",
    "   \n",
    "    df_classification[j] = model.predict(tfidf_test.dot(log))\n",
    "    \n",
    "    cv_score = np.mean(cross_val_score(model, tfidf_test.dot(log),\n",
    "                                       test[j], cv=3, scoring='roc_auc'))\n",
    "    nb_log_accuracy[j] = cv_score\n",
    "    print(cv_score)\n",
    "    nb_log_accuracy['mdl_accuracy'] = np.mean(list(nb_log_accuracy.values()))\n",
    "\n",
    "\n",
    "#     score = model.score(tfidf_test.dot(log) ,test[j])\n",
    "#     print(f\"Accuracy : {score:.4}\")\n",
    "#     print('----')   \n",
    "print('CV score using Naive Bayes - {}'.format(np.mean(list(nb_log_accuracy.values()))))\n",
    "nb_log_accuracy = pd.Series(nb_log_accuracy)\n"
   ]
  },
  {
   "cell_type": "markdown",
   "id": "1ef89081",
   "metadata": {
    "papermill": {
     "duration": 0.0542,
     "end_time": "2022-05-15T19:02:42.663892",
     "exception": false,
     "start_time": "2022-05-15T19:02:42.609692",
     "status": "completed"
    },
    "tags": []
   },
   "source": [
    "# Compare"
   ]
  },
  {
   "cell_type": "code",
   "execution_count": 27,
   "id": "66b32a29",
   "metadata": {
    "execution": {
     "iopub.execute_input": "2022-05-15T19:02:42.769469Z",
     "iopub.status.busy": "2022-05-15T19:02:42.769173Z",
     "iopub.status.idle": "2022-05-15T19:02:42.775930Z",
     "shell.execute_reply": "2022-05-15T19:02:42.775337Z"
    },
    "papermill": {
     "duration": 0.060267,
     "end_time": "2022-05-15T19:02:42.777573",
     "exception": false,
     "start_time": "2022-05-15T19:02:42.717306",
     "status": "completed"
    },
    "tags": []
   },
   "outputs": [],
   "source": [
    "class Utility:\n",
    "\n",
    "    \n",
    "\n",
    "    @staticmethod\n",
    "    def compare_models(md1_acc, md1_name, md2_acc, md2_name, title=None):\n",
    "      \n",
    "\n",
    "        md1_acc = md1_acc.mul(100, axis=0)\n",
    "        md2_acc = md2_acc.mul(100, axis=0)\n",
    "        df = pd.DataFrame(md1_acc, columns=[md1_name])\n",
    "        df[md2_name] = md2_acc\n",
    "        my_plot = df.plot(kind='bar', figsize=(12, 10),\n",
    "                          legend=True, grid=True, title=title, stacked=False)\n",
    "        my_plot.set_xlabel(\"Classes\")\n",
    "        my_plot.set_ylabel(\"Accuracy\")\n",
    "        return my_plot"
   ]
  },
  {
   "cell_type": "code",
   "execution_count": 28,
   "id": "1c1a8399",
   "metadata": {
    "execution": {
     "iopub.execute_input": "2022-05-15T19:02:42.879546Z",
     "iopub.status.busy": "2022-05-15T19:02:42.878986Z",
     "iopub.status.idle": "2022-05-15T19:02:43.200323Z",
     "shell.execute_reply": "2022-05-15T19:02:43.199418Z"
    },
    "papermill": {
     "duration": 0.374412,
     "end_time": "2022-05-15T19:02:43.202774",
     "exception": false,
     "start_time": "2022-05-15T19:02:42.828362",
     "status": "completed"
    },
    "tags": []
   },
   "outputs": [
    {
     "data": {
      "text/plain": [
       "<AxesSubplot:title={'center':'Naive Bayes vs NB Logistic Regression'}, xlabel='Classes', ylabel='Accuracy'>"
      ]
     },
     "execution_count": 28,
     "metadata": {},
     "output_type": "execute_result"
    },
    {
     "data": {
      "image/png": "[encoded data removed]",
      "text/plain": [
       "<Figure size 864x720 with 1 Axes>"
      ]
     },
     "metadata": {
      "needs_background": "light"
     },
     "output_type": "display_data"
    }
   ],
   "source": [
    "Utility.compare_models(md1_acc=nb_accuracy,md1_name=\"NB\", md2_acc=nb_log_accuracy, md2_name=\"NBLR\",title=\"Naive Bayes vs NB Logistic Regression\")"
   ]
  },
  {
   "cell_type": "markdown",
   "id": "b7ff61fc",
   "metadata": {
    "papermill": {
     "duration": 0.050613,
     "end_time": "2022-05-15T19:02:43.305173",
     "exception": false,
     "start_time": "2022-05-15T19:02:43.254560",
     "status": "completed"
    },
    "tags": []
   },
   "source": [
    "# Deployment"
   ]
  },
  {
   "cell_type": "code",
   "execution_count": 29,
   "id": "bfbb965e",
   "metadata": {
    "execution": {
     "iopub.execute_input": "2022-05-15T19:02:43.408537Z",
     "iopub.status.busy": "2022-05-15T19:02:43.408230Z",
     "iopub.status.idle": "2022-05-15T19:02:45.277570Z",
     "shell.execute_reply": "2022-05-15T19:02:45.276587Z"
    },
    "papermill": {
     "duration": 1.924761,
     "end_time": "2022-05-15T19:02:45.280806",
     "exception": false,
     "start_time": "2022-05-15T19:02:43.356045",
     "status": "completed"
    },
    "tags": []
   },
   "outputs": [
    {
     "name": "stdout",
     "output_type": "stream",
     "text": [
      "fit toxic\n",
      "fit severe_toxic\n",
      "fit obscene\n",
      "fit threat\n",
      "fit insult\n",
      "fit identity_hate\n"
     ]
    }
   ],
   "source": [
    "if 1==1:\n",
    "\n",
    "    # TFIDF vectorizer\n",
    "    pickle.dump(tfidf_vec,open('tfidf_vectorizer.pkl','wb'))\n",
    "\n",
    "    # Logistic regression models + Log Likelihood based on Naïve Bayes for each toxicity classification\n",
    "    for i,j in enumerate(target.columns):\n",
    "        print('fit', j)\n",
    "        model,log = get_model(tfidf,target[j])\n",
    "        pickle.dump(model,open('models_'+f'{target.columns[i]}.pkl','wb'))\n",
    "        pickle.dump(log,open('logs_'+f'{target.columns[i]}.pkl','wb'))\n",
    "        #Save models and logs as tuples"
   ]
  }
 ],
 "metadata": {
  "kernelspec": {
   "display_name": "Python 3",
   "language": "python",
   "name": "python3"
  },
  "language_info": {
   "codemirror_mode": {
    "name": "ipython",
    "version": 3
   },
   "file_extension": ".py",
   "mimetype": "text/x-python",
   "name": "python",
   "nbconvert_exporter": "python",
   "pygments_lexer": "ipython3",
   "version": "3.7.12"
  },
  "papermill": {
   "default_parameters": {},
   "duration": 123.137121,
   "end_time": "2022-05-15T19:02:46.306291",
   "environment_variables": {},
   "exception": null,
   "input_path": "__notebook__.ipynb",
   "output_path": "__notebook__.ipynb",
   "parameters": {},
   "start_time": "2022-05-15T19:00:43.169170",
   "version": "2.3.4"
  }
 },
 "nbformat": 4,
 "nbformat_minor": 5
}
